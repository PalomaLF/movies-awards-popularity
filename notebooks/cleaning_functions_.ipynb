{
 "cells": [
  {
   "cell_type": "code",
   "execution_count": 2,
   "id": "dacad107",
   "metadata": {},
   "outputs": [],
   "source": [
    "def clean_strings_column (df_column, str_replace_dictio):\n",
    "    for k,v in str_replace_dictio.items():\n",
    "        df_column = df_column.str.replace(k,v)\n",
    "    return df_column"
   ]
  },
  {
   "cell_type": "code",
   "execution_count": 3,
   "id": "1aca5608",
   "metadata": {},
   "outputs": [],
   "source": [
    "def clean_values_column (df, values_replace_dictio):\n",
    "    for k,v in values_replace_dictio.items():\n",
    "        df.replace(k,v,inplace = True)\n",
    "    return df"
   ]
  },
  {
   "cell_type": "code",
   "execution_count": 5,
   "id": "d2da3327",
   "metadata": {},
   "outputs": [],
   "source": [
    "def value_replace_dictio_regex(original_values_iterable, pattern_dictio, else_value):\n",
    "\n",
    "    value_replace_clean = {}\n",
    "\n",
    "    for k,v in pattern_dictio.items():\n",
    "        for w in original_values_iterable:\n",
    "            if re.search(k, w, flags=re.IGNORECASE):\n",
    "                value_replace_clean[w] = v\n",
    "            else:\n",
    "                value_replace_clean[w] = else_value\n",
    "    return value_replace_clean"
   ]
  }
 ],
 "metadata": {
  "kernelspec": {
   "display_name": "Python 3 (ipykernel)",
   "language": "python",
   "name": "python3"
  },
  "language_info": {
   "codemirror_mode": {
    "name": "ipython",
    "version": 3
   },
   "file_extension": ".py",
   "mimetype": "text/x-python",
   "name": "python",
   "nbconvert_exporter": "python",
   "pygments_lexer": "ipython3",
   "version": "3.11.5"
  }
 },
 "nbformat": 4,
 "nbformat_minor": 5
}
