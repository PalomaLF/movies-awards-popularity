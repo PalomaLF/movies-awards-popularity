{
 "cells": [
  {
   "cell_type": "code",
   "execution_count": 2,
   "id": "fab95a8c",
   "metadata": {},
   "outputs": [],
   "source": [
    "import pandas as pd\n",
    "import requests\n",
    "import re"
   ]
  },
  {
   "cell_type": "code",
   "execution_count": 3,
   "id": "54273957",
   "metadata": {},
   "outputs": [],
   "source": [
    "df_imdb = pd.read_csv('../data/raw/imdb_movie_data_2023.csv')"
   ]
  },
  {
   "cell_type": "code",
   "execution_count": 4,
   "id": "a37ccee3",
   "metadata": {
    "scrolled": true
   },
   "outputs": [
    {
     "data": {
      "text/html": [
       "<div>\n",
       "<style scoped>\n",
       "    .dataframe tbody tr th:only-of-type {\n",
       "        vertical-align: middle;\n",
       "    }\n",
       "\n",
       "    .dataframe tbody tr th {\n",
       "        vertical-align: top;\n",
       "    }\n",
       "\n",
       "    .dataframe thead th {\n",
       "        text-align: right;\n",
       "    }\n",
       "</style>\n",
       "<table border=\"1\" class=\"dataframe\">\n",
       "  <thead>\n",
       "    <tr style=\"text-align: right;\">\n",
       "      <th></th>\n",
       "      <th>Moive Name</th>\n",
       "      <th>Rating</th>\n",
       "      <th>Votes</th>\n",
       "      <th>Meta Score</th>\n",
       "      <th>Genre</th>\n",
       "      <th>PG Rating</th>\n",
       "      <th>Year</th>\n",
       "      <th>Duration</th>\n",
       "      <th>Cast</th>\n",
       "      <th>Director</th>\n",
       "    </tr>\n",
       "  </thead>\n",
       "  <tbody>\n",
       "    <tr>\n",
       "      <th>0</th>\n",
       "      <td>Leave the World Behind</td>\n",
       "      <td>6.5</td>\n",
       "      <td>90000.0</td>\n",
       "      <td>67.0</td>\n",
       "      <td>Drama, Mystery, Thriller</td>\n",
       "      <td>R</td>\n",
       "      <td>2023</td>\n",
       "      <td>2h 18m</td>\n",
       "      <td>Julia Roberts, Mahershala Ali, Ethan Hawke, My...</td>\n",
       "      <td>Sam Esmail</td>\n",
       "    </tr>\n",
       "    <tr>\n",
       "      <th>1</th>\n",
       "      <td>Wonka</td>\n",
       "      <td>7.4</td>\n",
       "      <td>24000.0</td>\n",
       "      <td>66.0</td>\n",
       "      <td>Adventure, Comedy, Family</td>\n",
       "      <td>PG</td>\n",
       "      <td>2023</td>\n",
       "      <td>1h 56m</td>\n",
       "      <td>Timothée Chalamet, Gustave Die, Murray McArthu...</td>\n",
       "      <td>Paul King</td>\n",
       "    </tr>\n",
       "  </tbody>\n",
       "</table>\n",
       "</div>"
      ],
      "text/plain": [
       "                Moive Name  Rating    Votes  Meta Score  \\\n",
       "0   Leave the World Behind     6.5  90000.0        67.0   \n",
       "1                    Wonka     7.4  24000.0        66.0   \n",
       "\n",
       "                       Genre PG Rating  Year Duration  \\\n",
       "0   Drama, Mystery, Thriller         R  2023   2h 18m   \n",
       "1  Adventure, Comedy, Family        PG  2023   1h 56m   \n",
       "\n",
       "                                                Cast    Director  \n",
       "0  Julia Roberts, Mahershala Ali, Ethan Hawke, My...  Sam Esmail  \n",
       "1  Timothée Chalamet, Gustave Die, Murray McArthu...   Paul King  "
      ]
     },
     "execution_count": 4,
     "metadata": {},
     "output_type": "execute_result"
    }
   ],
   "source": [
    "df_imdb.drop('Unnamed: 0',axis=1,inplace=True)\n",
    "df_imdb.head(2)"
   ]
  },
  {
   "cell_type": "code",
   "execution_count": 7,
   "id": "3a45e1aa",
   "metadata": {},
   "outputs": [],
   "source": [
    "df_imdb.rename(columns={\"Moive Name\": \"film\"}, inplace=True)"
   ]
  },
  {
   "cell_type": "code",
   "execution_count": 8,
   "id": "bd480b60",
   "metadata": {},
   "outputs": [],
   "source": [
    "imdb = df_imdb[['film','Rating','Genre']]"
   ]
  },
  {
   "cell_type": "code",
   "execution_count": 10,
   "id": "baed174d",
   "metadata": {},
   "outputs": [
    {
     "data": {
      "text/html": [
       "<div>\n",
       "<style scoped>\n",
       "    .dataframe tbody tr th:only-of-type {\n",
       "        vertical-align: middle;\n",
       "    }\n",
       "\n",
       "    .dataframe tbody tr th {\n",
       "        vertical-align: top;\n",
       "    }\n",
       "\n",
       "    .dataframe thead th {\n",
       "        text-align: right;\n",
       "    }\n",
       "</style>\n",
       "<table border=\"1\" class=\"dataframe\">\n",
       "  <thead>\n",
       "    <tr style=\"text-align: right;\">\n",
       "      <th></th>\n",
       "      <th>film</th>\n",
       "      <th>Rating</th>\n",
       "      <th>Genre</th>\n",
       "    </tr>\n",
       "  </thead>\n",
       "  <tbody>\n",
       "    <tr>\n",
       "      <th>0</th>\n",
       "      <td>Leave the World Behind</td>\n",
       "      <td>6.5</td>\n",
       "      <td>Drama, Mystery, Thriller</td>\n",
       "    </tr>\n",
       "    <tr>\n",
       "      <th>1</th>\n",
       "      <td>Wonka</td>\n",
       "      <td>7.4</td>\n",
       "      <td>Adventure, Comedy, Family</td>\n",
       "    </tr>\n",
       "    <tr>\n",
       "      <th>2</th>\n",
       "      <td>Poor Things</td>\n",
       "      <td>8.5</td>\n",
       "      <td>Comedy, Drama, Romance</td>\n",
       "    </tr>\n",
       "    <tr>\n",
       "      <th>3</th>\n",
       "      <td>Killers of the Flower Moon</td>\n",
       "      <td>7.8</td>\n",
       "      <td>Crime, Drama, History</td>\n",
       "    </tr>\n",
       "    <tr>\n",
       "      <th>4</th>\n",
       "      <td>May December</td>\n",
       "      <td>7.0</td>\n",
       "      <td>Comedy, Drama</td>\n",
       "    </tr>\n",
       "  </tbody>\n",
       "</table>\n",
       "</div>"
      ],
      "text/plain": [
       "                          film  Rating                      Genre\n",
       "0       Leave the World Behind     6.5   Drama, Mystery, Thriller\n",
       "1                        Wonka     7.4  Adventure, Comedy, Family\n",
       "2                  Poor Things     8.5     Comedy, Drama, Romance\n",
       "3   Killers of the Flower Moon     7.8      Crime, Drama, History\n",
       "4                 May December     7.0              Comedy, Drama"
      ]
     },
     "execution_count": 10,
     "metadata": {},
     "output_type": "execute_result"
    }
   ],
   "source": [
    "imdb.head()"
   ]
  },
  {
   "cell_type": "code",
   "execution_count": null,
   "id": "950a0bb2",
   "metadata": {},
   "outputs": [],
   "source": []
  }
 ],
 "metadata": {
  "kernelspec": {
   "display_name": "Python 3 (ipykernel)",
   "language": "python",
   "name": "python3"
  },
  "language_info": {
   "codemirror_mode": {
    "name": "ipython",
    "version": 3
   },
   "file_extension": ".py",
   "mimetype": "text/x-python",
   "name": "python",
   "nbconvert_exporter": "python",
   "pygments_lexer": "ipython3",
   "version": "3.11.5"
  }
 },
 "nbformat": 4,
 "nbformat_minor": 5
}
