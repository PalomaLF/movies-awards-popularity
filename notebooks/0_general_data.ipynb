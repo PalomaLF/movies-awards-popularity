{
 "cells": [
  {
   "cell_type": "code",
   "execution_count": 1,
   "id": "54afc0de",
   "metadata": {},
   "outputs": [],
   "source": [
    "import pandas as pd\n",
    "import requests\n",
    "import re"
   ]
  },
  {
   "cell_type": "code",
   "execution_count": 2,
   "id": "fa6dc02d",
   "metadata": {},
   "outputs": [
    {
     "data": {
      "text/html": [
       "<div>\n",
       "<style scoped>\n",
       "    .dataframe tbody tr th:only-of-type {\n",
       "        vertical-align: middle;\n",
       "    }\n",
       "\n",
       "    .dataframe tbody tr th {\n",
       "        vertical-align: top;\n",
       "    }\n",
       "\n",
       "    .dataframe thead th {\n",
       "        text-align: right;\n",
       "    }\n",
       "</style>\n",
       "<table border=\"1\" class=\"dataframe\">\n",
       "  <thead>\n",
       "    <tr style=\"text-align: right;\">\n",
       "      <th></th>\n",
       "      <th>year_film</th>\n",
       "      <th>year_ceremony</th>\n",
       "      <th>ceremony</th>\n",
       "      <th>category</th>\n",
       "      <th>name</th>\n",
       "      <th>film</th>\n",
       "      <th>winner</th>\n",
       "    </tr>\n",
       "  </thead>\n",
       "  <tbody>\n",
       "    <tr>\n",
       "      <th>0</th>\n",
       "      <td>1927</td>\n",
       "      <td>1928</td>\n",
       "      <td>1</td>\n",
       "      <td>ACTOR</td>\n",
       "      <td>Richard Barthelmess</td>\n",
       "      <td>The Noose</td>\n",
       "      <td>False</td>\n",
       "    </tr>\n",
       "    <tr>\n",
       "      <th>1</th>\n",
       "      <td>1927</td>\n",
       "      <td>1928</td>\n",
       "      <td>1</td>\n",
       "      <td>ACTOR</td>\n",
       "      <td>Emil Jannings</td>\n",
       "      <td>The Last Command</td>\n",
       "      <td>True</td>\n",
       "    </tr>\n",
       "  </tbody>\n",
       "</table>\n",
       "</div>"
      ],
      "text/plain": [
       "   year_film  year_ceremony  ceremony category                 name  \\\n",
       "0       1927           1928         1    ACTOR  Richard Barthelmess   \n",
       "1       1927           1928         1    ACTOR        Emil Jannings   \n",
       "\n",
       "               film  winner  \n",
       "0         The Noose   False  \n",
       "1  The Last Command    True  "
      ]
     },
     "execution_count": 2,
     "metadata": {},
     "output_type": "execute_result"
    }
   ],
   "source": [
    "df_oscars = pd.read_csv('../data/raw/the_oscar_award.csv')\n",
    "df_oscars.head(2)"
   ]
  },
  {
   "cell_type": "code",
   "execution_count": 3,
   "id": "d7448196",
   "metadata": {},
   "outputs": [
    {
     "data": {
      "text/html": [
       "<div>\n",
       "<style scoped>\n",
       "    .dataframe tbody tr th:only-of-type {\n",
       "        vertical-align: middle;\n",
       "    }\n",
       "\n",
       "    .dataframe tbody tr th {\n",
       "        vertical-align: top;\n",
       "    }\n",
       "\n",
       "    .dataframe thead th {\n",
       "        text-align: right;\n",
       "    }\n",
       "</style>\n",
       "<table border=\"1\" class=\"dataframe\">\n",
       "  <thead>\n",
       "    <tr style=\"text-align: right;\">\n",
       "      <th></th>\n",
       "      <th>year_film</th>\n",
       "      <th>year_award</th>\n",
       "      <th>ceremony</th>\n",
       "      <th>category</th>\n",
       "      <th>nominee</th>\n",
       "      <th>film</th>\n",
       "      <th>win</th>\n",
       "    </tr>\n",
       "  </thead>\n",
       "  <tbody>\n",
       "    <tr>\n",
       "      <th>0</th>\n",
       "      <td>1943</td>\n",
       "      <td>1944</td>\n",
       "      <td>1</td>\n",
       "      <td>Best Performance by an Actress in a Supporting...</td>\n",
       "      <td>Katina Paxinou</td>\n",
       "      <td>For Whom The Bell Tolls</td>\n",
       "      <td>True</td>\n",
       "    </tr>\n",
       "    <tr>\n",
       "      <th>1</th>\n",
       "      <td>1943</td>\n",
       "      <td>1944</td>\n",
       "      <td>1</td>\n",
       "      <td>Best Performance by an Actor in a Supporting R...</td>\n",
       "      <td>Akim Tamiroff</td>\n",
       "      <td>For Whom The Bell Tolls</td>\n",
       "      <td>True</td>\n",
       "    </tr>\n",
       "  </tbody>\n",
       "</table>\n",
       "</div>"
      ],
      "text/plain": [
       "   year_film  year_award  ceremony  \\\n",
       "0       1943        1944         1   \n",
       "1       1943        1944         1   \n",
       "\n",
       "                                            category         nominee  \\\n",
       "0  Best Performance by an Actress in a Supporting...  Katina Paxinou   \n",
       "1  Best Performance by an Actor in a Supporting R...   Akim Tamiroff   \n",
       "\n",
       "                      film   win  \n",
       "0  For Whom The Bell Tolls  True  \n",
       "1  For Whom The Bell Tolls  True  "
      ]
     },
     "execution_count": 3,
     "metadata": {},
     "output_type": "execute_result"
    }
   ],
   "source": [
    "df_golden = pd.read_csv('../data/raw/golden_globe_awards.csv')\n",
    "df_golden.head(2)"
   ]
  },
  {
   "cell_type": "code",
   "execution_count": 4,
   "id": "034e8ec8",
   "metadata": {},
   "outputs": [
    {
     "data": {
      "text/html": [
       "<div>\n",
       "<style scoped>\n",
       "    .dataframe tbody tr th:only-of-type {\n",
       "        vertical-align: middle;\n",
       "    }\n",
       "\n",
       "    .dataframe tbody tr th {\n",
       "        vertical-align: top;\n",
       "    }\n",
       "\n",
       "    .dataframe thead th {\n",
       "        text-align: right;\n",
       "    }\n",
       "</style>\n",
       "<table border=\"1\" class=\"dataframe\">\n",
       "  <thead>\n",
       "    <tr style=\"text-align: right;\">\n",
       "      <th></th>\n",
       "      <th>Unnamed: 0</th>\n",
       "      <th>Moive Name</th>\n",
       "      <th>Rating</th>\n",
       "      <th>Votes</th>\n",
       "      <th>Meta Score</th>\n",
       "      <th>Genre</th>\n",
       "      <th>PG Rating</th>\n",
       "      <th>Year</th>\n",
       "      <th>Duration</th>\n",
       "      <th>Cast</th>\n",
       "      <th>Director</th>\n",
       "    </tr>\n",
       "  </thead>\n",
       "  <tbody>\n",
       "    <tr>\n",
       "      <th>0</th>\n",
       "      <td>0</td>\n",
       "      <td>Leave the World Behind</td>\n",
       "      <td>6.5</td>\n",
       "      <td>90000.0</td>\n",
       "      <td>67.0</td>\n",
       "      <td>Drama, Mystery, Thriller</td>\n",
       "      <td>R</td>\n",
       "      <td>2023</td>\n",
       "      <td>2h 18m</td>\n",
       "      <td>Julia Roberts, Mahershala Ali, Ethan Hawke, My...</td>\n",
       "      <td>Sam Esmail</td>\n",
       "    </tr>\n",
       "    <tr>\n",
       "      <th>1</th>\n",
       "      <td>1</td>\n",
       "      <td>Wonka</td>\n",
       "      <td>7.4</td>\n",
       "      <td>24000.0</td>\n",
       "      <td>66.0</td>\n",
       "      <td>Adventure, Comedy, Family</td>\n",
       "      <td>PG</td>\n",
       "      <td>2023</td>\n",
       "      <td>1h 56m</td>\n",
       "      <td>Timothée Chalamet, Gustave Die, Murray McArthu...</td>\n",
       "      <td>Paul King</td>\n",
       "    </tr>\n",
       "  </tbody>\n",
       "</table>\n",
       "</div>"
      ],
      "text/plain": [
       "   Unnamed: 0               Moive Name  Rating    Votes  Meta Score  \\\n",
       "0           0   Leave the World Behind     6.5  90000.0        67.0   \n",
       "1           1                    Wonka     7.4  24000.0        66.0   \n",
       "\n",
       "                       Genre PG Rating  Year Duration  \\\n",
       "0   Drama, Mystery, Thriller         R  2023   2h 18m   \n",
       "1  Adventure, Comedy, Family        PG  2023   1h 56m   \n",
       "\n",
       "                                                Cast    Director  \n",
       "0  Julia Roberts, Mahershala Ali, Ethan Hawke, My...  Sam Esmail  \n",
       "1  Timothée Chalamet, Gustave Die, Murray McArthu...   Paul King  "
      ]
     },
     "execution_count": 4,
     "metadata": {},
     "output_type": "execute_result"
    }
   ],
   "source": [
    "df_imdb = pd.read_csv('../data/raw/imdb_movie_data_2023.csv')\n",
    "df_imdb.head(2)"
   ]
  },
  {
   "cell_type": "code",
   "execution_count": null,
   "id": "13b03606",
   "metadata": {},
   "outputs": [],
   "source": [
    "#Nos enfocamos en cada DF por separado para la limpieza primero\n",
    "#queremos comparar primero los datos de los oscars con los golden globes, que no empezaron hasta 1944, por lo que la información de años anteriores no nos vale\n",
    "#las categorías de premios de los oscars, además, estaban divididas en 'black and white' y 'color' hasta finales de los años 60, por lo que eliminaremos las filas anteriores a esa fecha (tampoco son relevantes para el estudio)\n",
    "#los DFs de golden globes y oscars incluyen información de nominados y ganadores. Mantendremos las dos para comprobar si los nominados suelen ser los mismos\n",
    "#el número de la edición de la ceremonia (columna 'Ceremony') tanto en golden globes como en oscars no nos hace falta teniedo ya el año de la ceremonia\n",
    "#df_oscars y df_golden comparten una estructura similar de columnas, así que el trabajo de limpieza se centrará en unificar formato y categorías de premios, comprobar que los nombres de películas y actores están escritos igual, etc.\n",
    "#propuesta --- hacer un count de premios incluyendo todas las categorías, y dejar las categorías específicas en comentarios. Igual sacar columnas para Best movie -- True y Best director -- True como más relevantes para la valoración general de la película\n",
    "# en el DF de imdb nos interesarán todas las columnas menos PG Rating y duración, que se eliminarán. Del resto, habrá que unificar formato con las columnas de movie name y director y las respectivas de los otros dos df\n",
    "#si no obtenemos suficientes datos del df de imdb, completaremos con datos de tmdb (api disponible)"
   ]
  }
 ],
 "metadata": {
  "kernelspec": {
   "display_name": "Python 3 (ipykernel)",
   "language": "python",
   "name": "python3"
  },
  "language_info": {
   "codemirror_mode": {
    "name": "ipython",
    "version": 3
   },
   "file_extension": ".py",
   "mimetype": "text/x-python",
   "name": "python",
   "nbconvert_exporter": "python",
   "pygments_lexer": "ipython3",
   "version": "3.11.5"
  }
 },
 "nbformat": 4,
 "nbformat_minor": 5
}
