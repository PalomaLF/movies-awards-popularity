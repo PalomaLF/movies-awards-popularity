{
 "cells": [
  {
   "cell_type": "code",
   "execution_count": 1,
   "id": "1c8e9f32",
   "metadata": {},
   "outputs": [],
   "source": [
    "import pandas as pd\n",
    "import requests\n",
    "import re\n",
    "import cleaning_functions as cf"
   ]
  },
  {
   "cell_type": "code",
   "execution_count": 2,
   "id": "519dcfed",
   "metadata": {},
   "outputs": [
    {
     "data": {
      "text/html": [
       "<div>\n",
       "<style scoped>\n",
       "    .dataframe tbody tr th:only-of-type {\n",
       "        vertical-align: middle;\n",
       "    }\n",
       "\n",
       "    .dataframe tbody tr th {\n",
       "        vertical-align: top;\n",
       "    }\n",
       "\n",
       "    .dataframe thead th {\n",
       "        text-align: right;\n",
       "    }\n",
       "</style>\n",
       "<table border=\"1\" class=\"dataframe\">\n",
       "  <thead>\n",
       "    <tr style=\"text-align: right;\">\n",
       "      <th></th>\n",
       "      <th>year_film</th>\n",
       "      <th>year_ceremony</th>\n",
       "      <th>ceremony</th>\n",
       "      <th>category</th>\n",
       "      <th>name</th>\n",
       "      <th>film</th>\n",
       "      <th>winner</th>\n",
       "    </tr>\n",
       "  </thead>\n",
       "  <tbody>\n",
       "    <tr>\n",
       "      <th>0</th>\n",
       "      <td>1927</td>\n",
       "      <td>1928</td>\n",
       "      <td>1</td>\n",
       "      <td>ACTOR</td>\n",
       "      <td>Richard Barthelmess</td>\n",
       "      <td>The Noose</td>\n",
       "      <td>False</td>\n",
       "    </tr>\n",
       "    <tr>\n",
       "      <th>1</th>\n",
       "      <td>1927</td>\n",
       "      <td>1928</td>\n",
       "      <td>1</td>\n",
       "      <td>ACTOR</td>\n",
       "      <td>Emil Jannings</td>\n",
       "      <td>The Last Command</td>\n",
       "      <td>True</td>\n",
       "    </tr>\n",
       "  </tbody>\n",
       "</table>\n",
       "</div>"
      ],
      "text/plain": [
       "   year_film  year_ceremony  ceremony category                 name  \\\n",
       "0       1927           1928         1    ACTOR  Richard Barthelmess   \n",
       "1       1927           1928         1    ACTOR        Emil Jannings   \n",
       "\n",
       "               film  winner  \n",
       "0         The Noose   False  \n",
       "1  The Last Command    True  "
      ]
     },
     "execution_count": 2,
     "metadata": {},
     "output_type": "execute_result"
    }
   ],
   "source": [
    "df_oscars = pd.read_csv('../data/raw/the_oscar_award.csv')\n",
    "df_oscars.head(2)"
   ]
  },
  {
   "cell_type": "code",
   "execution_count": 3,
   "id": "a8e514b0",
   "metadata": {},
   "outputs": [
    {
     "name": "stdout",
     "output_type": "stream",
     "text": [
      "<class 'pandas.core.frame.DataFrame'>\n",
      "RangeIndex: 10765 entries, 0 to 10764\n",
      "Data columns (total 7 columns):\n",
      " #   Column         Non-Null Count  Dtype \n",
      "---  ------         --------------  ----- \n",
      " 0   year_film      10765 non-null  int64 \n",
      " 1   year_ceremony  10765 non-null  int64 \n",
      " 2   ceremony       10765 non-null  int64 \n",
      " 3   category       10765 non-null  object\n",
      " 4   name           10761 non-null  object\n",
      " 5   film           10450 non-null  object\n",
      " 6   winner         10765 non-null  bool  \n",
      "dtypes: bool(1), int64(3), object(3)\n",
      "memory usage: 515.3+ KB\n"
     ]
    }
   ],
   "source": [
    "df_oscars.info()"
   ]
  },
  {
   "cell_type": "code",
   "execution_count": 4,
   "id": "52aa2c78",
   "metadata": {},
   "outputs": [],
   "source": [
    "df_oscars.drop('ceremony',axis=1,inplace=True)"
   ]
  },
  {
   "cell_type": "code",
   "execution_count": 5,
   "id": "89527f1e",
   "metadata": {},
   "outputs": [],
   "source": [
    "df_oscars.category = df_oscars.category.str.capitalize()"
   ]
  },
  {
   "cell_type": "code",
   "execution_count": 6,
   "id": "7eb4b211",
   "metadata": {},
   "outputs": [
    {
     "data": {
      "text/html": [
       "<div>\n",
       "<style scoped>\n",
       "    .dataframe tbody tr th:only-of-type {\n",
       "        vertical-align: middle;\n",
       "    }\n",
       "\n",
       "    .dataframe tbody tr th {\n",
       "        vertical-align: top;\n",
       "    }\n",
       "\n",
       "    .dataframe thead th {\n",
       "        text-align: right;\n",
       "    }\n",
       "</style>\n",
       "<table border=\"1\" class=\"dataframe\">\n",
       "  <thead>\n",
       "    <tr style=\"text-align: right;\">\n",
       "      <th></th>\n",
       "      <th>year_film</th>\n",
       "      <th>year_ceremony</th>\n",
       "      <th>category</th>\n",
       "      <th>name</th>\n",
       "      <th>film</th>\n",
       "      <th>winner</th>\n",
       "    </tr>\n",
       "  </thead>\n",
       "  <tbody>\n",
       "    <tr>\n",
       "      <th>4451</th>\n",
       "      <td>1967</td>\n",
       "      <td>1968</td>\n",
       "      <td>Actor</td>\n",
       "      <td>Warren Beatty</td>\n",
       "      <td>Bonnie and Clyde</td>\n",
       "      <td>False</td>\n",
       "    </tr>\n",
       "    <tr>\n",
       "      <th>4452</th>\n",
       "      <td>1967</td>\n",
       "      <td>1968</td>\n",
       "      <td>Actor</td>\n",
       "      <td>Dustin Hoffman</td>\n",
       "      <td>The Graduate</td>\n",
       "      <td>False</td>\n",
       "    </tr>\n",
       "    <tr>\n",
       "      <th>4453</th>\n",
       "      <td>1967</td>\n",
       "      <td>1968</td>\n",
       "      <td>Actor</td>\n",
       "      <td>Paul Newman</td>\n",
       "      <td>Cool Hand Luke</td>\n",
       "      <td>False</td>\n",
       "    </tr>\n",
       "    <tr>\n",
       "      <th>4454</th>\n",
       "      <td>1967</td>\n",
       "      <td>1968</td>\n",
       "      <td>Actor</td>\n",
       "      <td>Rod Steiger</td>\n",
       "      <td>In the Heat of the Night</td>\n",
       "      <td>True</td>\n",
       "    </tr>\n",
       "    <tr>\n",
       "      <th>4455</th>\n",
       "      <td>1967</td>\n",
       "      <td>1968</td>\n",
       "      <td>Actor</td>\n",
       "      <td>Spencer Tracy</td>\n",
       "      <td>Guess Who's Coming to Dinner</td>\n",
       "      <td>False</td>\n",
       "    </tr>\n",
       "    <tr>\n",
       "      <th>...</th>\n",
       "      <td>...</td>\n",
       "      <td>...</td>\n",
       "      <td>...</td>\n",
       "      <td>...</td>\n",
       "      <td>...</td>\n",
       "      <td>...</td>\n",
       "    </tr>\n",
       "    <tr>\n",
       "      <th>10760</th>\n",
       "      <td>2022</td>\n",
       "      <td>2023</td>\n",
       "      <td>Honorary award</td>\n",
       "      <td>To Euzhan Palcy, a masterful filmmaker who bro...</td>\n",
       "      <td>NaN</td>\n",
       "      <td>True</td>\n",
       "    </tr>\n",
       "    <tr>\n",
       "      <th>10761</th>\n",
       "      <td>2022</td>\n",
       "      <td>2023</td>\n",
       "      <td>Honorary award</td>\n",
       "      <td>To Diane Warren, for her genius, generosity an...</td>\n",
       "      <td>NaN</td>\n",
       "      <td>True</td>\n",
       "    </tr>\n",
       "    <tr>\n",
       "      <th>10762</th>\n",
       "      <td>2022</td>\n",
       "      <td>2023</td>\n",
       "      <td>Honorary award</td>\n",
       "      <td>To Peter Weir, a fearless and consummate filmm...</td>\n",
       "      <td>NaN</td>\n",
       "      <td>True</td>\n",
       "    </tr>\n",
       "    <tr>\n",
       "      <th>10763</th>\n",
       "      <td>2022</td>\n",
       "      <td>2023</td>\n",
       "      <td>Gordon e. sawyer award</td>\n",
       "      <td>Iain Neil</td>\n",
       "      <td>NaN</td>\n",
       "      <td>True</td>\n",
       "    </tr>\n",
       "    <tr>\n",
       "      <th>10764</th>\n",
       "      <td>2022</td>\n",
       "      <td>2023</td>\n",
       "      <td>Award of commendation</td>\n",
       "      <td>To Ryan Laney for his innovative adaptation an...</td>\n",
       "      <td>Welcome to Chechnya</td>\n",
       "      <td>True</td>\n",
       "    </tr>\n",
       "  </tbody>\n",
       "</table>\n",
       "<p>6314 rows × 6 columns</p>\n",
       "</div>"
      ],
      "text/plain": [
       "       year_film  year_ceremony                category  \\\n",
       "4451        1967           1968                   Actor   \n",
       "4452        1967           1968                   Actor   \n",
       "4453        1967           1968                   Actor   \n",
       "4454        1967           1968                   Actor   \n",
       "4455        1967           1968                   Actor   \n",
       "...          ...            ...                     ...   \n",
       "10760       2022           2023          Honorary award   \n",
       "10761       2022           2023          Honorary award   \n",
       "10762       2022           2023          Honorary award   \n",
       "10763       2022           2023  Gordon e. sawyer award   \n",
       "10764       2022           2023   Award of commendation   \n",
       "\n",
       "                                                    name  \\\n",
       "4451                                       Warren Beatty   \n",
       "4452                                      Dustin Hoffman   \n",
       "4453                                         Paul Newman   \n",
       "4454                                         Rod Steiger   \n",
       "4455                                       Spencer Tracy   \n",
       "...                                                  ...   \n",
       "10760  To Euzhan Palcy, a masterful filmmaker who bro...   \n",
       "10761  To Diane Warren, for her genius, generosity an...   \n",
       "10762  To Peter Weir, a fearless and consummate filmm...   \n",
       "10763                                          Iain Neil   \n",
       "10764  To Ryan Laney for his innovative adaptation an...   \n",
       "\n",
       "                               film  winner  \n",
       "4451               Bonnie and Clyde   False  \n",
       "4452                   The Graduate   False  \n",
       "4453                 Cool Hand Luke   False  \n",
       "4454       In the Heat of the Night    True  \n",
       "4455   Guess Who's Coming to Dinner   False  \n",
       "...                             ...     ...  \n",
       "10760                           NaN    True  \n",
       "10761                           NaN    True  \n",
       "10762                           NaN    True  \n",
       "10763                           NaN    True  \n",
       "10764           Welcome to Chechnya    True  \n",
       "\n",
       "[6314 rows x 6 columns]"
      ]
     },
     "execution_count": 6,
     "metadata": {},
     "output_type": "execute_result"
    }
   ],
   "source": [
    "#quitar premios previos a 1967, ya que en este año se realizaron grandes cambios en la estructura de los premios (eliminación de categorías black and white)\n",
    "df_oscars = df_oscars[df_oscars.year_film >= 1967]\n",
    "df_oscars"
   ]
  },
  {
   "cell_type": "code",
   "execution_count": 7,
   "id": "79b9afd3",
   "metadata": {},
   "outputs": [
    {
     "data": {
      "text/plain": [
       "year_film        False\n",
       "year_ceremony    False\n",
       "category         False\n",
       "name              True\n",
       "film              True\n",
       "winner           False\n",
       "dtype: bool"
      ]
     },
     "execution_count": 7,
     "metadata": {},
     "output_type": "execute_result"
    }
   ],
   "source": [
    "df_oscars.isnull().any()"
   ]
  },
  {
   "cell_type": "code",
   "execution_count": 8,
   "id": "073a1540",
   "metadata": {},
   "outputs": [],
   "source": [
    "nan_rows_oscars = df_oscars[df_oscars.film.isnull()]"
   ]
  },
  {
   "cell_type": "code",
   "execution_count": 9,
   "id": "f941e5b3",
   "metadata": {},
   "outputs": [
    {
     "name": "stdout",
     "output_type": "stream",
     "text": [
      "<class 'pandas.core.frame.DataFrame'>\n",
      "Index: 154 entries, 4557 to 10763\n",
      "Data columns (total 6 columns):\n",
      " #   Column         Non-Null Count  Dtype \n",
      "---  ------         --------------  ----- \n",
      " 0   year_film      154 non-null    int64 \n",
      " 1   year_ceremony  154 non-null    int64 \n",
      " 2   category       154 non-null    object\n",
      " 3   name           150 non-null    object\n",
      " 4   film           0 non-null      object\n",
      " 5   winner         154 non-null    bool  \n",
      "dtypes: bool(1), int64(2), object(3)\n",
      "memory usage: 7.4+ KB\n"
     ]
    }
   ],
   "source": [
    "nan_rows_oscars.info()"
   ]
  },
  {
   "cell_type": "code",
   "execution_count": 10,
   "id": "a663941d",
   "metadata": {
    "scrolled": true
   },
   "outputs": [
    {
     "data": {
      "text/html": [
       "<div>\n",
       "<style scoped>\n",
       "    .dataframe tbody tr th:only-of-type {\n",
       "        vertical-align: middle;\n",
       "    }\n",
       "\n",
       "    .dataframe tbody tr th {\n",
       "        vertical-align: top;\n",
       "    }\n",
       "\n",
       "    .dataframe thead th {\n",
       "        text-align: right;\n",
       "    }\n",
       "</style>\n",
       "<table border=\"1\" class=\"dataframe\">\n",
       "  <thead>\n",
       "    <tr style=\"text-align: right;\">\n",
       "      <th></th>\n",
       "      <th>year_film</th>\n",
       "      <th>year_ceremony</th>\n",
       "      <th>category</th>\n",
       "      <th>name</th>\n",
       "      <th>film</th>\n",
       "      <th>winner</th>\n",
       "    </tr>\n",
       "  </thead>\n",
       "  <tbody>\n",
       "    <tr>\n",
       "      <th>10759</th>\n",
       "      <td>2022</td>\n",
       "      <td>2023</td>\n",
       "      <td>Jean hersholt humanitarian award</td>\n",
       "      <td>NaN</td>\n",
       "      <td>NaN</td>\n",
       "      <td>True</td>\n",
       "    </tr>\n",
       "    <tr>\n",
       "      <th>10760</th>\n",
       "      <td>2022</td>\n",
       "      <td>2023</td>\n",
       "      <td>Honorary award</td>\n",
       "      <td>To Euzhan Palcy, a masterful filmmaker who bro...</td>\n",
       "      <td>NaN</td>\n",
       "      <td>True</td>\n",
       "    </tr>\n",
       "    <tr>\n",
       "      <th>10761</th>\n",
       "      <td>2022</td>\n",
       "      <td>2023</td>\n",
       "      <td>Honorary award</td>\n",
       "      <td>To Diane Warren, for her genius, generosity an...</td>\n",
       "      <td>NaN</td>\n",
       "      <td>True</td>\n",
       "    </tr>\n",
       "    <tr>\n",
       "      <th>10762</th>\n",
       "      <td>2022</td>\n",
       "      <td>2023</td>\n",
       "      <td>Honorary award</td>\n",
       "      <td>To Peter Weir, a fearless and consummate filmm...</td>\n",
       "      <td>NaN</td>\n",
       "      <td>True</td>\n",
       "    </tr>\n",
       "    <tr>\n",
       "      <th>10763</th>\n",
       "      <td>2022</td>\n",
       "      <td>2023</td>\n",
       "      <td>Gordon e. sawyer award</td>\n",
       "      <td>Iain Neil</td>\n",
       "      <td>NaN</td>\n",
       "      <td>True</td>\n",
       "    </tr>\n",
       "  </tbody>\n",
       "</table>\n",
       "</div>"
      ],
      "text/plain": [
       "       year_film  year_ceremony                          category  \\\n",
       "10759       2022           2023  Jean hersholt humanitarian award   \n",
       "10760       2022           2023                    Honorary award   \n",
       "10761       2022           2023                    Honorary award   \n",
       "10762       2022           2023                    Honorary award   \n",
       "10763       2022           2023            Gordon e. sawyer award   \n",
       "\n",
       "                                                    name film  winner  \n",
       "10759                                                NaN  NaN    True  \n",
       "10760  To Euzhan Palcy, a masterful filmmaker who bro...  NaN    True  \n",
       "10761  To Diane Warren, for her genius, generosity an...  NaN    True  \n",
       "10762  To Peter Weir, a fearless and consummate filmm...  NaN    True  \n",
       "10763                                          Iain Neil  NaN    True  "
      ]
     },
     "execution_count": 10,
     "metadata": {},
     "output_type": "execute_result"
    }
   ],
   "source": [
    "#comprobar contenido de las filas con nan values en películas. parece que es por premios especiales y premios honorarios, por lo que las eliminamos después\n",
    "nan_rows_oscars.tail(5)"
   ]
  },
  {
   "cell_type": "code",
   "execution_count": 11,
   "id": "87848b59",
   "metadata": {},
   "outputs": [],
   "source": [
    "df_oscars.dropna(subset='film', inplace = True)"
   ]
  },
  {
   "cell_type": "code",
   "execution_count": 12,
   "id": "f8a82637",
   "metadata": {
    "scrolled": true
   },
   "outputs": [
    {
     "data": {
      "text/plain": [
       "year_film        False\n",
       "year_ceremony    False\n",
       "category         False\n",
       "name             False\n",
       "film             False\n",
       "winner           False\n",
       "dtype: bool"
      ]
     },
     "execution_count": 12,
     "metadata": {},
     "output_type": "execute_result"
    }
   ],
   "source": [
    "df_oscars.isnull().any()"
   ]
  },
  {
   "cell_type": "code",
   "execution_count": 13,
   "id": "8eeaac60",
   "metadata": {},
   "outputs": [],
   "source": [
    "subset = df_oscars[(df_oscars.year_film == 1967) & (df_oscars.winner == True)]"
   ]
  },
  {
   "cell_type": "code",
   "execution_count": 14,
   "id": "7c96dc57",
   "metadata": {},
   "outputs": [],
   "source": [
    "category_value_drop = ['Award of commendation']"
   ]
  },
  {
   "cell_type": "code",
   "execution_count": 15,
   "id": "c795d95e",
   "metadata": {},
   "outputs": [],
   "source": [
    "df_oscars = cf.drop_rows_by_value(df_oscars,df_oscars.category,category_value_drop)"
   ]
  },
  {
   "cell_type": "code",
   "execution_count": 16,
   "id": "3bf92abf",
   "metadata": {},
   "outputs": [],
   "source": [
    "changes_category_values = {\n",
    "    'Actress':'Actress in a leading role',\n",
    "    'Actor': 'Actor in a leading role',\n",
    "    'Art direction': 'Production design',\n",
    "    'Best motion picture': 'Picture',\n",
    "    'Directing':'Director',\n",
    "    'Makeup': 'Makeup and hairstyling',\n",
    "    'Sound':'Sound effects',\n",
    "    'Sound effects editing':'Sound effects',\n",
    "    'Sound editing': 'Sound effects',\n",
    "    'Sound mixing':'Sound effects',\n",
    "    'Foreign language film': 'International feature film'\n",
    "}"
   ]
  },
  {
   "cell_type": "code",
   "execution_count": 17,
   "id": "2f871209",
   "metadata": {},
   "outputs": [],
   "source": [
    "changes_category_strings = {\n",
    "    'subject': 'film',\n",
    "    'cartoon': 'animated',\n",
    "    '(':'',\n",
    "    ')':'',\n",
    "    'Special achievement award ':'',\n",
    "    'Special ':'',  \n",
    "    'dramatic ':''\n",
    "}"
   ]
  },
  {
   "cell_type": "code",
   "execution_count": 18,
   "id": "aca3a1a5",
   "metadata": {},
   "outputs": [],
   "source": [
    "df_oscars.category = cf.clean_strings_column(df_oscars.category, changes_category_strings)"
   ]
  },
  {
   "cell_type": "code",
   "execution_count": 19,
   "id": "63418127",
   "metadata": {},
   "outputs": [],
   "source": [
    "df_oscars.category = df_oscars.category.str.capitalize()"
   ]
  },
  {
   "cell_type": "code",
   "execution_count": 20,
   "id": "65a59806",
   "metadata": {},
   "outputs": [],
   "source": [
    "df_oscars = cf.clean_values_column(df_oscars,changes_category_values)"
   ]
  },
  {
   "cell_type": "code",
   "execution_count": 21,
   "id": "599faedb",
   "metadata": {},
   "outputs": [],
   "source": [
    "#Crear sets con categorías similares para ver qué más se puede limpiar:"
   ]
  },
  {
   "cell_type": "code",
   "execution_count": 22,
   "id": "583b5093",
   "metadata": {
    "scrolled": true
   },
   "outputs": [
    {
     "data": {
      "text/plain": [
       "{'Music adaptation score',\n",
       " 'Music original music score',\n",
       " 'Music original musical or comedy score',\n",
       " 'Music original score',\n",
       " 'Music original score--for a motion picture [not a musical]',\n",
       " 'Music original song',\n",
       " 'Music original song score',\n",
       " 'Music original song score and its adaptation -or- adaptation score',\n",
       " 'Music original song score and its adaptation or adaptation score',\n",
       " 'Music original song score or adaptation score',\n",
       " 'Music score of a musical picture--original or adaptation',\n",
       " 'Music scoring of music--adaptation or treatment',\n",
       " 'Music scoring: adaptation and original song score',\n",
       " 'Music scoring: original song score and adaptation -or- scoring: adaptation',\n",
       " 'Music song',\n",
       " 'Music song--original for the picture'}"
      ]
     },
     "execution_count": 22,
     "metadata": {},
     "output_type": "execute_result"
    }
   ],
   "source": [
    "music_categories = cf.values_iterable_regex(df_oscars.category,r'\\b\\w*music\\w*\\b')\n",
    "music_categories"
   ]
  },
  {
   "cell_type": "code",
   "execution_count": 23,
   "id": "e1ad55c9",
   "metadata": {},
   "outputs": [],
   "source": [
    "music_patterns = {\n",
    "    r'\\b\\w*scor\\w*\\b':'Original score'\n",
    "}"
   ]
  },
  {
   "cell_type": "code",
   "execution_count": 24,
   "id": "e1f96451",
   "metadata": {},
   "outputs": [],
   "source": [
    "music_clean = cf.value_replace_dictio_regex(music_categories, music_patterns, 'Original song')"
   ]
  },
  {
   "cell_type": "code",
   "execution_count": 25,
   "id": "e43a0285",
   "metadata": {},
   "outputs": [],
   "source": [
    "df_oscars = cf.clean_values_column(df_oscars,music_clean)"
   ]
  },
  {
   "cell_type": "code",
   "execution_count": 26,
   "id": "8576e7ab",
   "metadata": {
    "scrolled": true
   },
   "outputs": [
    {
     "data": {
      "text/plain": [
       "{'Writing adapted screenplay',\n",
       " 'Writing original screenplay',\n",
       " 'Writing screenplay adapted from other material',\n",
       " 'Writing screenplay based on material from another medium',\n",
       " 'Writing screenplay based on material previously produced or published',\n",
       " 'Writing screenplay written directly for the screen',\n",
       " 'Writing screenplay written directly for the screen--based on factual material or on story material not previously published or produced',\n",
       " 'Writing screenplay--based on material from another medium',\n",
       " 'Writing story and screenplay--based on factual material or material not previously published or produced',\n",
       " 'Writing story and screenplay--based on material not previously published or produced',\n",
       " 'Writing story and screenplay--written directly for the screen'}"
      ]
     },
     "execution_count": 26,
     "metadata": {},
     "output_type": "execute_result"
    }
   ],
   "source": [
    "writing_categories = cf.values_iterable_regex(df_oscars.category,r'\\b\\w*writing\\w*\\b')\n",
    "writing_categories"
   ]
  },
  {
   "cell_type": "code",
   "execution_count": 27,
   "id": "780770e0",
   "metadata": {},
   "outputs": [],
   "source": [
    "writting_patterns = {\n",
    "    r'\\b\\w*not preciously\\w*\\b':'Original screenplay',\n",
    "    r'\\b\\w*directly\\w*\\b': 'Original screenplay',\n",
    "    r'\\b\\w*original\\w*\\b': 'Original screenplay'\n",
    "}"
   ]
  },
  {
   "cell_type": "code",
   "execution_count": 28,
   "id": "e29b7bcf",
   "metadata": {},
   "outputs": [],
   "source": [
    "writing_clean = cf.value_replace_dictio_regex(writing_categories, writting_patterns, 'Adapted screenplay')"
   ]
  },
  {
   "cell_type": "code",
   "execution_count": 29,
   "id": "397daf56",
   "metadata": {},
   "outputs": [],
   "source": [
    "df_oscars = cf.clean_values_column(df_oscars,writing_clean)"
   ]
  },
  {
   "cell_type": "code",
   "execution_count": 30,
   "id": "5502c4dc",
   "metadata": {},
   "outputs": [
    {
     "data": {
      "text/plain": [
       "year_film          56\n",
       "year_ceremony      56\n",
       "category           24\n",
       "name             4453\n",
       "film             2927\n",
       "winner              2\n",
       "dtype: int64"
      ]
     },
     "execution_count": 30,
     "metadata": {},
     "output_type": "execute_result"
    }
   ],
   "source": [
    "df_oscars.nunique()"
   ]
  },
  {
   "cell_type": "code",
   "execution_count": 31,
   "id": "37c92d7c",
   "metadata": {},
   "outputs": [
    {
     "data": {
      "text/plain": [
       "array(['Actor in a leading role', 'Actor in a supporting role',\n",
       "       'Actress in a leading role', 'Actress in a supporting role',\n",
       "       'Production design', 'Cinematography', 'Costume design',\n",
       "       'Director', 'Documentary feature', 'Documentary short film',\n",
       "       'Film editing', 'International feature film', 'Original score',\n",
       "       'Original song', 'Best picture', 'Short film animated',\n",
       "       'Short film live action', 'Sound effects', 'Visual effects',\n",
       "       'Adapted screenplay', 'Original screenplay',\n",
       "       'Makeup and hairstyling', 'Animated feature film',\n",
       "       'Documentary feature film'], dtype=object)"
      ]
     },
     "execution_count": 31,
     "metadata": {},
     "output_type": "execute_result"
    }
   ],
   "source": [
    "df_oscars.category.unique()"
   ]
  },
  {
   "cell_type": "code",
   "execution_count": 35,
   "id": "1ff0cfb0",
   "metadata": {},
   "outputs": [],
   "source": [
    "df_oscars.reset_index(drop = True, inplace = True)"
   ]
  },
  {
   "cell_type": "code",
   "execution_count": 36,
   "id": "289eb8f4",
   "metadata": {
    "scrolled": true
   },
   "outputs": [
    {
     "data": {
      "text/html": [
       "<div>\n",
       "<style scoped>\n",
       "    .dataframe tbody tr th:only-of-type {\n",
       "        vertical-align: middle;\n",
       "    }\n",
       "\n",
       "    .dataframe tbody tr th {\n",
       "        vertical-align: top;\n",
       "    }\n",
       "\n",
       "    .dataframe thead th {\n",
       "        text-align: right;\n",
       "    }\n",
       "</style>\n",
       "<table border=\"1\" class=\"dataframe\">\n",
       "  <thead>\n",
       "    <tr style=\"text-align: right;\">\n",
       "      <th></th>\n",
       "      <th>year_film</th>\n",
       "      <th>year_ceremony</th>\n",
       "      <th>category</th>\n",
       "      <th>name</th>\n",
       "      <th>film</th>\n",
       "      <th>winner</th>\n",
       "    </tr>\n",
       "  </thead>\n",
       "  <tbody>\n",
       "    <tr>\n",
       "      <th>0</th>\n",
       "      <td>1967</td>\n",
       "      <td>1968</td>\n",
       "      <td>Actor in a leading role</td>\n",
       "      <td>Warren Beatty</td>\n",
       "      <td>Bonnie and Clyde</td>\n",
       "      <td>False</td>\n",
       "    </tr>\n",
       "    <tr>\n",
       "      <th>1</th>\n",
       "      <td>1967</td>\n",
       "      <td>1968</td>\n",
       "      <td>Actor in a leading role</td>\n",
       "      <td>Dustin Hoffman</td>\n",
       "      <td>The Graduate</td>\n",
       "      <td>False</td>\n",
       "    </tr>\n",
       "  </tbody>\n",
       "</table>\n",
       "</div>"
      ],
      "text/plain": [
       "   year_film  year_ceremony                 category            name  \\\n",
       "0       1967           1968  Actor in a leading role   Warren Beatty   \n",
       "1       1967           1968  Actor in a leading role  Dustin Hoffman   \n",
       "\n",
       "               film  winner  \n",
       "0  Bonnie and Clyde   False  \n",
       "1      The Graduate   False  "
      ]
     },
     "execution_count": 36,
     "metadata": {},
     "output_type": "execute_result"
    }
   ],
   "source": [
    "df_oscars.head(2)"
   ]
  },
  {
   "cell_type": "code",
   "execution_count": 37,
   "id": "b625ebc9",
   "metadata": {},
   "outputs": [
    {
     "data": {
      "text/html": [
       "<div>\n",
       "<style scoped>\n",
       "    .dataframe tbody tr th:only-of-type {\n",
       "        vertical-align: middle;\n",
       "    }\n",
       "\n",
       "    .dataframe tbody tr th {\n",
       "        vertical-align: top;\n",
       "    }\n",
       "\n",
       "    .dataframe thead th {\n",
       "        text-align: right;\n",
       "    }\n",
       "</style>\n",
       "<table border=\"1\" class=\"dataframe\">\n",
       "  <thead>\n",
       "    <tr style=\"text-align: right;\">\n",
       "      <th></th>\n",
       "      <th>year_film</th>\n",
       "      <th>year_ceremony</th>\n",
       "      <th>category</th>\n",
       "      <th>name</th>\n",
       "      <th>film</th>\n",
       "      <th>winner</th>\n",
       "    </tr>\n",
       "  </thead>\n",
       "  <tbody>\n",
       "    <tr>\n",
       "      <th>2989</th>\n",
       "      <td>1995</td>\n",
       "      <td>1996</td>\n",
       "      <td>Best picture</td>\n",
       "      <td>Brian Grazer, Producer</td>\n",
       "      <td>Apollo 13</td>\n",
       "      <td>False</td>\n",
       "    </tr>\n",
       "    <tr>\n",
       "      <th>2990</th>\n",
       "      <td>1995</td>\n",
       "      <td>1996</td>\n",
       "      <td>Best picture</td>\n",
       "      <td>George Miller, Doug Mitchell and Bill Miller, ...</td>\n",
       "      <td>Babe</td>\n",
       "      <td>False</td>\n",
       "    </tr>\n",
       "    <tr>\n",
       "      <th>2991</th>\n",
       "      <td>1995</td>\n",
       "      <td>1996</td>\n",
       "      <td>Best picture</td>\n",
       "      <td>Mel Gibson, Alan Ladd, Jr. and Bruce Davey, Pr...</td>\n",
       "      <td>Braveheart</td>\n",
       "      <td>True</td>\n",
       "    </tr>\n",
       "    <tr>\n",
       "      <th>2992</th>\n",
       "      <td>1995</td>\n",
       "      <td>1996</td>\n",
       "      <td>Best picture</td>\n",
       "      <td>Mario Cecchi Gori, Vittorio Cecchi Gori and Ga...</td>\n",
       "      <td>The Postman (Il Postino)</td>\n",
       "      <td>False</td>\n",
       "    </tr>\n",
       "    <tr>\n",
       "      <th>2993</th>\n",
       "      <td>1995</td>\n",
       "      <td>1996</td>\n",
       "      <td>Best picture</td>\n",
       "      <td>Lindsay Doran, Producer</td>\n",
       "      <td>Sense and Sensibility</td>\n",
       "      <td>False</td>\n",
       "    </tr>\n",
       "  </tbody>\n",
       "</table>\n",
       "</div>"
      ],
      "text/plain": [
       "      year_film  year_ceremony      category  \\\n",
       "2989       1995           1996  Best picture   \n",
       "2990       1995           1996  Best picture   \n",
       "2991       1995           1996  Best picture   \n",
       "2992       1995           1996  Best picture   \n",
       "2993       1995           1996  Best picture   \n",
       "\n",
       "                                                   name  \\\n",
       "2989                             Brian Grazer, Producer   \n",
       "2990  George Miller, Doug Mitchell and Bill Miller, ...   \n",
       "2991  Mel Gibson, Alan Ladd, Jr. and Bruce Davey, Pr...   \n",
       "2992  Mario Cecchi Gori, Vittorio Cecchi Gori and Ga...   \n",
       "2993                            Lindsay Doran, Producer   \n",
       "\n",
       "                          film  winner  \n",
       "2989                 Apollo 13   False  \n",
       "2990                      Babe   False  \n",
       "2991                Braveheart    True  \n",
       "2992  The Postman (Il Postino)   False  \n",
       "2993     Sense and Sensibility   False  "
      ]
     },
     "execution_count": 37,
     "metadata": {},
     "output_type": "execute_result"
    }
   ],
   "source": [
    "subset_b = df_oscars[(df_oscars.year_film == 1995) & (df_oscars.category == 'Best picture')]\n",
    "subset_b.head(60)"
   ]
  },
  {
   "cell_type": "code",
   "execution_count": 38,
   "id": "9c3fb4e4",
   "metadata": {},
   "outputs": [],
   "source": [
    "df_oscars.to_csv('oscars_cleaned.csv', index = False)"
   ]
  }
 ],
 "metadata": {
  "kernelspec": {
   "display_name": "Python 3 (ipykernel)",
   "language": "python",
   "name": "python3"
  },
  "language_info": {
   "codemirror_mode": {
    "name": "ipython",
    "version": 3
   },
   "file_extension": ".py",
   "mimetype": "text/x-python",
   "name": "python",
   "nbconvert_exporter": "python",
   "pygments_lexer": "ipython3",
   "version": "3.11.5"
  }
 },
 "nbformat": 4,
 "nbformat_minor": 5
}
