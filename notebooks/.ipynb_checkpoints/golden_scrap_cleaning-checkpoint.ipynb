{
 "cells": [
  {
   "cell_type": "code",
   "execution_count": 1,
   "id": "422c39d1",
   "metadata": {},
   "outputs": [],
   "source": [
    "import pandas as pd\n",
    "import requests\n",
    "import re\n",
    "import cleaning_functions as cf"
   ]
  },
  {
   "cell_type": "code",
   "execution_count": 2,
   "id": "baecc615",
   "metadata": {},
   "outputs": [],
   "source": [
    "df_golden_s = pd.read_csv('../data/raw/golden_scrapping.csv')"
   ]
  },
  {
   "cell_type": "code",
   "execution_count": 4,
   "id": "d574e3a2",
   "metadata": {},
   "outputs": [
    {
     "data": {
      "text/html": [
       "<div>\n",
       "<style scoped>\n",
       "    .dataframe tbody tr th:only-of-type {\n",
       "        vertical-align: middle;\n",
       "    }\n",
       "\n",
       "    .dataframe tbody tr th {\n",
       "        vertical-align: top;\n",
       "    }\n",
       "\n",
       "    .dataframe thead th {\n",
       "        text-align: right;\n",
       "    }\n",
       "</style>\n",
       "<table border=\"1\" class=\"dataframe\">\n",
       "  <thead>\n",
       "    <tr style=\"text-align: right;\">\n",
       "      <th></th>\n",
       "      <th>year_film</th>\n",
       "      <th>year_award</th>\n",
       "      <th>Golden Globes nominations</th>\n",
       "      <th>nominee</th>\n",
       "      <th>film</th>\n",
       "      <th>Golden Globes winner</th>\n",
       "    </tr>\n",
       "  </thead>\n",
       "  <tbody>\n",
       "    <tr>\n",
       "      <th>0</th>\n",
       "      <td>2020</td>\n",
       "      <td>2021</td>\n",
       "      <td>Best Director - Motion Picture</td>\n",
       "      <td>Chloé Zhao</td>\n",
       "      <td>Nomadland</td>\n",
       "      <td>True</td>\n",
       "    </tr>\n",
       "    <tr>\n",
       "      <th>1</th>\n",
       "      <td>2020</td>\n",
       "      <td>2021</td>\n",
       "      <td>Best Director - Motion Picture</td>\n",
       "      <td>Aaron Sorkin</td>\n",
       "      <td>Trial of the Chicago 7, The</td>\n",
       "      <td>False</td>\n",
       "    </tr>\n",
       "    <tr>\n",
       "      <th>2</th>\n",
       "      <td>2020</td>\n",
       "      <td>2021</td>\n",
       "      <td>Best Director - Motion Picture</td>\n",
       "      <td>David Fincher</td>\n",
       "      <td>Mank</td>\n",
       "      <td>False</td>\n",
       "    </tr>\n",
       "  </tbody>\n",
       "</table>\n",
       "</div>"
      ],
      "text/plain": [
       "   year_film  year_award       Golden Globes nominations        nominee  \\\n",
       "0       2020        2021  Best Director - Motion Picture     Chloé Zhao   \n",
       "1       2020        2021  Best Director - Motion Picture   Aaron Sorkin   \n",
       "2       2020        2021  Best Director - Motion Picture  David Fincher   \n",
       "\n",
       "                          film  Golden Globes winner  \n",
       "0                    Nomadland                  True  \n",
       "1  Trial of the Chicago 7, The                 False  \n",
       "2                         Mank                 False  "
      ]
     },
     "execution_count": 4,
     "metadata": {},
     "output_type": "execute_result"
    }
   ],
   "source": [
    "df_golden_s.head(3)"
   ]
  },
  {
   "cell_type": "code",
   "execution_count": 13,
   "id": "13180871",
   "metadata": {},
   "outputs": [],
   "source": [
    "#seguimos el mismo proceso de limpieza que con el df original de los golden globes"
   ]
  },
  {
   "cell_type": "code",
   "execution_count": 14,
   "id": "a9b0fdad",
   "metadata": {},
   "outputs": [],
   "source": [
    "df_golden_s['Golden Globes nominations'] = df_golden_s['Golden Globes nominations'].str.capitalize()"
   ]
  },
  {
   "cell_type": "code",
   "execution_count": 15,
   "id": "a72e3ada",
   "metadata": {},
   "outputs": [],
   "source": [
    "#eliminamos categorías televisivas:\n",
    "#primero eliminamos las filas con categorías sobre televisión, ya que nuestro estudio se centra en cine/películas\n",
    "tv_categories = cf.values_iterable_regex(df_golden_s['Golden Globes nominations'],r'\\b\\w*television\\w*\\b')\n",
    "df_golden_s = cf.drop_rows_by_value(df_golden_s,df_golden_s['Golden Globes nominations'],tv_categories)                          "
   ]
  },
  {
   "cell_type": "code",
   "execution_count": 17,
   "id": "f36c320a",
   "metadata": {},
   "outputs": [],
   "source": [
    "#eliminamos también categrías honoríficas no vinculadas a una película concreta\n",
    "honorary_awards =['Cecil b. demille award','Henrietta award (world film favorites)','Special achievement award','Carol burnett award']\n",
    "df_golden_s = cf.drop_rows_by_value(df_golden_s,df_golden_s['Golden Globes nominations'],honorary_awards)"
   ]
  },
  {
   "cell_type": "code",
   "execution_count": 21,
   "id": "a7d4359f",
   "metadata": {},
   "outputs": [
    {
     "data": {
      "text/plain": [
       "year_film                     0\n",
       "year_award                    0\n",
       "Golden Globes nominations     0\n",
       "nominee                       0\n",
       "film                         52\n",
       "Golden Globes winner          0\n",
       "dtype: int64"
      ]
     },
     "execution_count": 21,
     "metadata": {},
     "output_type": "execute_result"
    }
   ],
   "source": [
    "df_golden_s.isnull().sum()"
   ]
  },
  {
   "cell_type": "code",
   "execution_count": 25,
   "id": "1b2a5da4",
   "metadata": {},
   "outputs": [
    {
     "data": {
      "text/html": [
       "<div>\n",
       "<style scoped>\n",
       "    .dataframe tbody tr th:only-of-type {\n",
       "        vertical-align: middle;\n",
       "    }\n",
       "\n",
       "    .dataframe tbody tr th {\n",
       "        vertical-align: top;\n",
       "    }\n",
       "\n",
       "    .dataframe thead th {\n",
       "        text-align: right;\n",
       "    }\n",
       "</style>\n",
       "<table border=\"1\" class=\"dataframe\">\n",
       "  <thead>\n",
       "    <tr style=\"text-align: right;\">\n",
       "      <th></th>\n",
       "      <th>year_film</th>\n",
       "      <th>year_award</th>\n",
       "      <th>Golden Globes nominations</th>\n",
       "      <th>nominee</th>\n",
       "      <th>film</th>\n",
       "      <th>Golden Globes winner</th>\n",
       "    </tr>\n",
       "  </thead>\n",
       "  <tbody>\n",
       "    <tr>\n",
       "      <th>5</th>\n",
       "      <td>2020</td>\n",
       "      <td>2021</td>\n",
       "      <td>Best motion picture - animated</td>\n",
       "      <td>Soul</td>\n",
       "      <td>NaN</td>\n",
       "      <td>True</td>\n",
       "    </tr>\n",
       "    <tr>\n",
       "      <th>6</th>\n",
       "      <td>2020</td>\n",
       "      <td>2021</td>\n",
       "      <td>Best motion picture - animated</td>\n",
       "      <td>Croods: A New Age, The</td>\n",
       "      <td>NaN</td>\n",
       "      <td>False</td>\n",
       "    </tr>\n",
       "  </tbody>\n",
       "</table>\n",
       "</div>"
      ],
      "text/plain": [
       "   year_film  year_award       Golden Globes nominations  \\\n",
       "5       2020        2021  Best motion picture - animated   \n",
       "6       2020        2021  Best motion picture - animated   \n",
       "\n",
       "                  nominee film  Golden Globes winner  \n",
       "5                    Soul  NaN                  True  \n",
       "6  Croods: A New Age, The  NaN                 False  "
      ]
     },
     "execution_count": 25,
     "metadata": {},
     "output_type": "execute_result"
    }
   ],
   "source": [
    "#igual que en el primer DF, los valores nulos de películas se pueden completar con los valores en la misma fila en la columna nominee\n",
    "nan_rows_golden_s = df_golden_s[df_golden_s.film.isnull()]\n",
    "nan_rows_golden_s.head(2)"
   ]
  },
  {
   "cell_type": "code",
   "execution_count": 26,
   "id": "12e7c96f",
   "metadata": {},
   "outputs": [],
   "source": [
    "df_golden_s.film.fillna(df_golden_s.nominee, inplace=True)"
   ]
  },
  {
   "cell_type": "code",
   "execution_count": 27,
   "id": "339649c2",
   "metadata": {},
   "outputs": [
    {
     "data": {
      "text/plain": [
       "year_film                    0\n",
       "year_award                   0\n",
       "Golden Globes nominations    0\n",
       "nominee                      0\n",
       "film                         0\n",
       "Golden Globes winner         0\n",
       "dtype: int64"
      ]
     },
     "execution_count": 27,
     "metadata": {},
     "output_type": "execute_result"
    }
   ],
   "source": [
    "df_golden_s.isnull().sum()"
   ]
  },
  {
   "cell_type": "code",
   "execution_count": null,
   "id": "aa9fff02",
   "metadata": {},
   "outputs": [],
   "source": [
    "#unificamos valores únicos en la columna de 'Golden Globes nominations' para igualarlos al df original"
   ]
  },
  {
   "cell_type": "code",
   "execution_count": 28,
   "id": "4d7ab6e5",
   "metadata": {
    "scrolled": true
   },
   "outputs": [
    {
     "data": {
      "text/plain": [
       "array(['Best director - motion picture', 'Best motion picture - animated',\n",
       "       'Best motion picture - drama',\n",
       "       'Best motion picture – non-english language',\n",
       "       'Best motion picture - musical or comedy',\n",
       "       'Best original score - motion picture',\n",
       "       'Best original song - motion picture',\n",
       "       'Best performance by an actor in a motion picture - drama',\n",
       "       'Best performance by an actor in a motion picture - musical or comedy',\n",
       "       'Best performance by an actor in a supporting role in any motion picture',\n",
       "       'Best performance by an actress in a motion picture - drama',\n",
       "       'Best performance by an actress in a motion picture - musical or comedy',\n",
       "       'Best performance by an actress in a supporting role in any motion picture',\n",
       "       'Best screenplay - motion picture'], dtype=object)"
      ]
     },
     "execution_count": 28,
     "metadata": {},
     "output_type": "execute_result"
    }
   ],
   "source": [
    "df_golden_s['Golden Globes nominations'].unique()"
   ]
  },
  {
   "cell_type": "code",
   "execution_count": 29,
   "id": "6f092658",
   "metadata": {},
   "outputs": [],
   "source": [
    "cat_changes = {\n",
    "    'Best performance by an actress in a motion picture - drama': 'Best actress - drama',\n",
    "    'Best performance by an actress in a motion picture - musical or comedy': 'Best actress - musical or comedy',\n",
    "    'Best performance by an actress in a supporting role in any motion picture': 'Best supporting actress - motion picture',\n",
    "    'Best performance by an actor in a motion picture - drama': 'Best actor - drama',\n",
    "    'Best performance by an actor in a motion picture - musical or comedy': 'Best actor - musical or comedy',\n",
    "    'Best performance by an actor in a supporting role in any motion picture': 'Best supporting actor - motion picture',\n",
    "    'Best motion picture – non-english language': 'Best motion picture - foreign language'\n",
    "}"
   ]
  },
  {
   "cell_type": "code",
   "execution_count": 30,
   "id": "a348b861",
   "metadata": {},
   "outputs": [
    {
     "data": {
      "text/plain": [
       "array(['Best director - motion picture', 'Best motion picture - animated',\n",
       "       'Best motion picture - drama',\n",
       "       'Best motion picture - foreign language',\n",
       "       'Best motion picture - musical or comedy',\n",
       "       'Best original score - motion picture',\n",
       "       'Best original song - motion picture', 'Best actor - drama',\n",
       "       'Best actor - musical or comedy',\n",
       "       'Best supporting actor - motion picture', 'Best actress - drama',\n",
       "       'Best actress - musical or comedy',\n",
       "       'Best supporting actress - motion picture',\n",
       "       'Best screenplay - motion picture'], dtype=object)"
      ]
     },
     "execution_count": 30,
     "metadata": {},
     "output_type": "execute_result"
    }
   ],
   "source": [
    "df_golden_s = cf.clean_values_column (df_golden_s, cat_changes)\n",
    "df_golden_s['Golden Globes nominations'].unique()"
   ]
  },
  {
   "cell_type": "code",
   "execution_count": null,
   "id": "be0d26f2",
   "metadata": {},
   "outputs": [],
   "source": []
  },
  {
   "cell_type": "code",
   "execution_count": null,
   "id": "f7b91e62",
   "metadata": {},
   "outputs": [],
   "source": []
  }
 ],
 "metadata": {
  "kernelspec": {
   "display_name": "Python 3 (ipykernel)",
   "language": "python",
   "name": "python3"
  },
  "language_info": {
   "codemirror_mode": {
    "name": "ipython",
    "version": 3
   },
   "file_extension": ".py",
   "mimetype": "text/x-python",
   "name": "python",
   "nbconvert_exporter": "python",
   "pygments_lexer": "ipython3",
   "version": "3.11.5"
  }
 },
 "nbformat": 4,
 "nbformat_minor": 5
}
