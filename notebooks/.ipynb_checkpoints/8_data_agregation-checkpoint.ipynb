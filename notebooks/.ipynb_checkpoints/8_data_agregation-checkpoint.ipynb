{
 "cells": [
  {
   "cell_type": "code",
   "execution_count": 1,
   "id": "4300bf97",
   "metadata": {},
   "outputs": [],
   "source": [
    "import pandas as pd\n",
    "import re\n",
    "import seaborn as sns\n",
    "import matplotlib.pyplot as plt"
   ]
  },
  {
   "cell_type": "code",
   "execution_count": 2,
   "id": "4329abae",
   "metadata": {
    "scrolled": true
   },
   "outputs": [
    {
     "data": {
      "text/html": [
       "<div>\n",
       "<style scoped>\n",
       "    .dataframe tbody tr th:only-of-type {\n",
       "        vertical-align: middle;\n",
       "    }\n",
       "\n",
       "    .dataframe tbody tr th {\n",
       "        vertical-align: top;\n",
       "    }\n",
       "\n",
       "    .dataframe thead th {\n",
       "        text-align: right;\n",
       "    }\n",
       "</style>\n",
       "<table border=\"1\" class=\"dataframe\">\n",
       "  <thead>\n",
       "    <tr style=\"text-align: right;\">\n",
       "      <th></th>\n",
       "      <th>film</th>\n",
       "      <th>year_film</th>\n",
       "      <th>Total oscars nominations</th>\n",
       "      <th>Total oscars won</th>\n",
       "      <th>Oscars main categories nominations</th>\n",
       "      <th>Oscars main categories won</th>\n",
       "      <th>Oscars best picture</th>\n",
       "      <th>G.G. nominations</th>\n",
       "      <th>G.G. won</th>\n",
       "      <th>G.G. main categories nominations</th>\n",
       "      <th>G.G. main categories won</th>\n",
       "      <th>G.G. best motion picture</th>\n",
       "      <th>TMDb Score</th>\n",
       "    </tr>\n",
       "  </thead>\n",
       "  <tbody>\n",
       "    <tr>\n",
       "      <th>0</th>\n",
       "      <td>Far from the Madding Crowd</td>\n",
       "      <td>1967</td>\n",
       "      <td>1.0</td>\n",
       "      <td>0.0</td>\n",
       "      <td>0.0</td>\n",
       "      <td>0.0</td>\n",
       "      <td>0.0</td>\n",
       "      <td>0.0</td>\n",
       "      <td>0.0</td>\n",
       "      <td>0.0</td>\n",
       "      <td>0.0</td>\n",
       "      <td>0.0</td>\n",
       "      <td>7.044</td>\n",
       "    </tr>\n",
       "    <tr>\n",
       "      <th>1</th>\n",
       "      <td>I Even Met Happy Gypsies</td>\n",
       "      <td>1967</td>\n",
       "      <td>1.0</td>\n",
       "      <td>0.0</td>\n",
       "      <td>0.0</td>\n",
       "      <td>0.0</td>\n",
       "      <td>0.0</td>\n",
       "      <td>0.0</td>\n",
       "      <td>0.0</td>\n",
       "      <td>0.0</td>\n",
       "      <td>0.0</td>\n",
       "      <td>0.0</td>\n",
       "      <td>6.8</td>\n",
       "    </tr>\n",
       "  </tbody>\n",
       "</table>\n",
       "</div>"
      ],
      "text/plain": [
       "                         film  year_film  Total oscars nominations  \\\n",
       "0  Far from the Madding Crowd       1967                       1.0   \n",
       "1    I Even Met Happy Gypsies       1967                       1.0   \n",
       "\n",
       "   Total oscars won  Oscars main categories nominations  \\\n",
       "0               0.0                                 0.0   \n",
       "1               0.0                                 0.0   \n",
       "\n",
       "   Oscars main categories won  Oscars best picture  G.G. nominations  \\\n",
       "0                         0.0                  0.0               0.0   \n",
       "1                         0.0                  0.0               0.0   \n",
       "\n",
       "   G.G. won  G.G. main categories nominations  G.G. main categories won  \\\n",
       "0       0.0                               0.0                       0.0   \n",
       "1       0.0                               0.0                       0.0   \n",
       "\n",
       "   G.G. best motion picture TMDb Score  \n",
       "0                       0.0      7.044  \n",
       "1                       0.0        6.8  "
      ]
     },
     "execution_count": 2,
     "metadata": {},
     "output_type": "execute_result"
    }
   ],
   "source": [
    "nominated_movies = pd.read_csv('../data/Clean/4_final_movie_data.csv')\n",
    "nominated_movies.head(2)"
   ]
  },
  {
   "cell_type": "code",
   "execution_count": 3,
   "id": "08c1d0a1",
   "metadata": {},
   "outputs": [],
   "source": [
    "#comparación de películas nominadas en ambos galardones vs el total"
   ]
  },
  {
   "cell_type": "code",
   "execution_count": 4,
   "id": "44c91f76",
   "metadata": {},
   "outputs": [],
   "source": [
    "nominations_years = nominated_movies.groupby('year_film')['film'].agg('count')"
   ]
  },
  {
   "cell_type": "code",
   "execution_count": 5,
   "id": "39216f86",
   "metadata": {},
   "outputs": [],
   "source": [
    "nominated_both = nominated_movies[(nominated_movies['Total oscars nominations'] > 0) & (nominated_movies['G.G. nominations']>0)]\n",
    "nominated_both = nominated_both.groupby('year_film')['film'].agg('count')"
   ]
  },
  {
   "cell_type": "code",
   "execution_count": 6,
   "id": "664ca763",
   "metadata": {},
   "outputs": [],
   "source": [
    "comp_nominations_years = pd.merge(nominations_years,nominated_both, how='outer', on = ['year_film'])\n",
    "comp_nominations_years.fillna(0, inplace = True)"
   ]
  },
  {
   "cell_type": "code",
   "execution_count": 7,
   "id": "ec02102a",
   "metadata": {},
   "outputs": [],
   "source": [
    "comp_nominations_years = comp_nominations_years.rename(columns = {'film_x':'Total nominations','film_y':'Nominated both awards'})"
   ]
  },
  {
   "cell_type": "code",
   "execution_count": null,
   "id": "12ec1d4b",
   "metadata": {},
   "outputs": [],
   "source": []
  },
  {
   "cell_type": "code",
   "execution_count": 8,
   "id": "fd8587c0",
   "metadata": {},
   "outputs": [],
   "source": [
    "#comparación ganadores"
   ]
  },
  {
   "cell_type": "code",
   "execution_count": 9,
   "id": "8a901c25",
   "metadata": {},
   "outputs": [],
   "source": [
    "award_winner = nominated_movies[(nominated_movies['Total oscars won'] > 0) | (nominated_movies['G.G. won']>0)]\n",
    "award_winner = award_winner.groupby('year_film')['film'].agg('count')"
   ]
  },
  {
   "cell_type": "code",
   "execution_count": 10,
   "id": "8fc6ca74",
   "metadata": {},
   "outputs": [],
   "source": [
    "award_winner_both = nominated_movies[(nominated_movies['Total oscars won'] > 0) & (nominated_movies['G.G. won']>0)]\n",
    "award_winner_both = award_winner_both.groupby('year_film')['film'].agg('count')"
   ]
  },
  {
   "cell_type": "code",
   "execution_count": 11,
   "id": "c20de8e1",
   "metadata": {},
   "outputs": [],
   "source": [
    "award_winner_years = pd.merge(award_winner,award_winner_both,how='outer', on = ['year_film'])\n",
    "award_winner_years.fillna(0, inplace = True)"
   ]
  },
  {
   "cell_type": "code",
   "execution_count": 12,
   "id": "fcf7b6d5",
   "metadata": {},
   "outputs": [],
   "source": [
    "award_winner_years = award_winner_years.rename(columns = {'film_x':'Total winners','film_y':'Winners both awards'})"
   ]
  },
  {
   "cell_type": "code",
   "execution_count": null,
   "id": "205d4616",
   "metadata": {},
   "outputs": [],
   "source": []
  },
  {
   "cell_type": "code",
   "execution_count": 13,
   "id": "981efbb3",
   "metadata": {},
   "outputs": [],
   "source": [
    "#comparación por nominación a las categorías principales de premios: mejor película (tanto drama como musical/comedia en el caso de los golden globes), mejor actor/actriz, mejor actor/actriz secundarios, mejor director"
   ]
  },
  {
   "cell_type": "code",
   "execution_count": 14,
   "id": "a2927e6e",
   "metadata": {},
   "outputs": [],
   "source": [
    "nom_main_categories_both = nominated_movies[(nominated_movies['Oscars main categories nominations'] > 0) & (nominated_movies['G.G. main categories nominations']>0)]\n",
    "nom_main_categories_both = nom_main_categories_both.groupby('year_film')['film'].agg('count')"
   ]
  },
  {
   "cell_type": "code",
   "execution_count": 15,
   "id": "ea9d8a33",
   "metadata": {},
   "outputs": [],
   "source": [
    "nom_main_categories = nominated_movies[(nominated_movies['Oscars main categories nominations'] > 0) | (nominated_movies['G.G. main categories nominations']>0)]\n",
    "nom_main_categories = nom_main_categories.groupby('year_film')['film'].agg('count')"
   ]
  },
  {
   "cell_type": "code",
   "execution_count": 16,
   "id": "bc6c75d3",
   "metadata": {},
   "outputs": [],
   "source": [
    "main_categories_years = pd.merge(nom_main_categories,nom_main_categories_both,how='outer', on = ['year_film'])\n",
    "main_categories_years.fillna(0, inplace = True)"
   ]
  },
  {
   "cell_type": "code",
   "execution_count": 17,
   "id": "f382699a",
   "metadata": {},
   "outputs": [],
   "source": [
    "main_categories_years = main_categories_years.rename(columns = {'film_x':'Total nominations main categories','film_y':'Nominated main categories both awards'})"
   ]
  },
  {
   "cell_type": "code",
   "execution_count": null,
   "id": "07004d34",
   "metadata": {},
   "outputs": [],
   "source": []
  },
  {
   "cell_type": "code",
   "execution_count": 18,
   "id": "38eefed1",
   "metadata": {},
   "outputs": [],
   "source": [
    "#comparación ganadores categorías principales"
   ]
  },
  {
   "cell_type": "code",
   "execution_count": 19,
   "id": "3abe0025",
   "metadata": {},
   "outputs": [],
   "source": [
    "main_cat_winner = nominated_movies[(nominated_movies['Oscars main categories won'] > 0) | (nominated_movies['G.G. main categories won']>0)]\n",
    "main_cat_winner = main_cat_winner.groupby('year_film')['film'].agg('count')"
   ]
  },
  {
   "cell_type": "code",
   "execution_count": 20,
   "id": "b7320c3d",
   "metadata": {},
   "outputs": [],
   "source": [
    "main_cat_win_both = nominated_movies[(nominated_movies['Oscars main categories won'] > 0) & (nominated_movies['G.G. main categories won']>0)]\n",
    "main_cat_win_both = main_cat_win_both.groupby('year_film')['film'].agg('count')"
   ]
  },
  {
   "cell_type": "code",
   "execution_count": 21,
   "id": "1dcbe19a",
   "metadata": {},
   "outputs": [],
   "source": [
    "main_cat_win_years = pd.merge(main_cat_winner,main_cat_win_both,how='outer', on = ['year_film'])\n",
    "main_cat_win_years.fillna(0, inplace = True)"
   ]
  },
  {
   "cell_type": "code",
   "execution_count": 22,
   "id": "038d8605",
   "metadata": {},
   "outputs": [],
   "source": [
    "main_cat_win_years = main_cat_win_years.rename(columns = {'film_x':'Main cat. total winners','film_y':'Main cat. winners both awards'})"
   ]
  },
  {
   "cell_type": "code",
   "execution_count": null,
   "id": "7eb88ba3",
   "metadata": {},
   "outputs": [],
   "source": []
  },
  {
   "cell_type": "code",
   "execution_count": 23,
   "id": "5d6280ae",
   "metadata": {},
   "outputs": [],
   "source": [
    "#comparación ganadores Best picture"
   ]
  },
  {
   "cell_type": "code",
   "execution_count": 24,
   "id": "a02187a2",
   "metadata": {},
   "outputs": [],
   "source": [
    "best_movie = nominated_movies[(nominated_movies['Oscars best picture'] > 0) | (nominated_movies['G.G. best motion picture']>0)]\n",
    "best_movie = best_movie.groupby('year_film')['film'].agg('count')"
   ]
  },
  {
   "cell_type": "code",
   "execution_count": 25,
   "id": "f59f99f6",
   "metadata": {},
   "outputs": [],
   "source": [
    "best_movie_both = nominated_movies[(nominated_movies['Oscars best picture'] > 0) & (nominated_movies['G.G. best motion picture']>0)]\n",
    "best_movie_both = best_movie_both.groupby('year_film')['film'].agg('count')"
   ]
  },
  {
   "cell_type": "code",
   "execution_count": 26,
   "id": "ee0e616c",
   "metadata": {},
   "outputs": [],
   "source": [
    "best_movies_years = pd.merge(best_movie,best_movie_both,how='outer', on = ['year_film'])\n",
    "best_movies_years.fillna(0, inplace = True)"
   ]
  },
  {
   "cell_type": "code",
   "execution_count": 27,
   "id": "2b9ec1d6",
   "metadata": {},
   "outputs": [],
   "source": [
    "best_movies_years = best_movies_years.rename(columns = {'film_x':'Best picture total winners','film_y':'Best picture both awards'})"
   ]
  },
  {
   "cell_type": "code",
   "execution_count": null,
   "id": "4047a00c",
   "metadata": {},
   "outputs": [],
   "source": []
  }
 ],
 "metadata": {
  "kernelspec": {
   "display_name": "Python 3 (ipykernel)",
   "language": "python",
   "name": "python3"
  },
  "language_info": {
   "codemirror_mode": {
    "name": "ipython",
    "version": 3
   },
   "file_extension": ".py",
   "mimetype": "text/x-python",
   "name": "python",
   "nbconvert_exporter": "python",
   "pygments_lexer": "ipython3",
   "version": "3.11.5"
  }
 },
 "nbformat": 4,
 "nbformat_minor": 5
}
