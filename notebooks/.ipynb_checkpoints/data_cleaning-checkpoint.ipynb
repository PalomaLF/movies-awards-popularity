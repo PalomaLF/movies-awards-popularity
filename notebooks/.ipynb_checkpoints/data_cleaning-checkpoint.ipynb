{
 "cells": [
  {
   "cell_type": "code",
   "execution_count": 1,
   "id": "54d2e98b",
   "metadata": {},
   "outputs": [],
   "source": [
    "import pandas as pd\n",
    "import requests\n",
    "import re\n"
   ]
  },
  {
   "cell_type": "code",
   "execution_count": 2,
   "id": "1bdf5ceb",
   "metadata": {},
   "outputs": [
    {
     "data": {
      "text/html": [
       "<div>\n",
       "<style scoped>\n",
       "    .dataframe tbody tr th:only-of-type {\n",
       "        vertical-align: middle;\n",
       "    }\n",
       "\n",
       "    .dataframe tbody tr th {\n",
       "        vertical-align: top;\n",
       "    }\n",
       "\n",
       "    .dataframe thead th {\n",
       "        text-align: right;\n",
       "    }\n",
       "</style>\n",
       "<table border=\"1\" class=\"dataframe\">\n",
       "  <thead>\n",
       "    <tr style=\"text-align: right;\">\n",
       "      <th></th>\n",
       "      <th>year_film</th>\n",
       "      <th>year_ceremony</th>\n",
       "      <th>ceremony</th>\n",
       "      <th>category</th>\n",
       "      <th>name</th>\n",
       "      <th>film</th>\n",
       "      <th>winner</th>\n",
       "    </tr>\n",
       "  </thead>\n",
       "  <tbody>\n",
       "    <tr>\n",
       "      <th>0</th>\n",
       "      <td>1927</td>\n",
       "      <td>1928</td>\n",
       "      <td>1</td>\n",
       "      <td>ACTOR</td>\n",
       "      <td>Richard Barthelmess</td>\n",
       "      <td>The Noose</td>\n",
       "      <td>False</td>\n",
       "    </tr>\n",
       "    <tr>\n",
       "      <th>1</th>\n",
       "      <td>1927</td>\n",
       "      <td>1928</td>\n",
       "      <td>1</td>\n",
       "      <td>ACTOR</td>\n",
       "      <td>Emil Jannings</td>\n",
       "      <td>The Last Command</td>\n",
       "      <td>True</td>\n",
       "    </tr>\n",
       "  </tbody>\n",
       "</table>\n",
       "</div>"
      ],
      "text/plain": [
       "   year_film  year_ceremony  ceremony category                 name  \\\n",
       "0       1927           1928         1    ACTOR  Richard Barthelmess   \n",
       "1       1927           1928         1    ACTOR        Emil Jannings   \n",
       "\n",
       "               film  winner  \n",
       "0         The Noose   False  \n",
       "1  The Last Command    True  "
      ]
     },
     "execution_count": 2,
     "metadata": {},
     "output_type": "execute_result"
    }
   ],
   "source": [
    "df_oscars = pd.read_csv('../data/raw/the_oscar_award.csv')\n",
    "df_oscars.head(2)"
   ]
  },
  {
   "cell_type": "code",
   "execution_count": 3,
   "id": "34adc136",
   "metadata": {},
   "outputs": [
    {
     "data": {
      "text/html": [
       "<div>\n",
       "<style scoped>\n",
       "    .dataframe tbody tr th:only-of-type {\n",
       "        vertical-align: middle;\n",
       "    }\n",
       "\n",
       "    .dataframe tbody tr th {\n",
       "        vertical-align: top;\n",
       "    }\n",
       "\n",
       "    .dataframe thead th {\n",
       "        text-align: right;\n",
       "    }\n",
       "</style>\n",
       "<table border=\"1\" class=\"dataframe\">\n",
       "  <thead>\n",
       "    <tr style=\"text-align: right;\">\n",
       "      <th></th>\n",
       "      <th>year_film</th>\n",
       "      <th>year_award</th>\n",
       "      <th>ceremony</th>\n",
       "      <th>category</th>\n",
       "      <th>nominee</th>\n",
       "      <th>film</th>\n",
       "      <th>win</th>\n",
       "    </tr>\n",
       "  </thead>\n",
       "  <tbody>\n",
       "    <tr>\n",
       "      <th>0</th>\n",
       "      <td>1943</td>\n",
       "      <td>1944</td>\n",
       "      <td>1</td>\n",
       "      <td>Best Performance by an Actress in a Supporting...</td>\n",
       "      <td>Katina Paxinou</td>\n",
       "      <td>For Whom The Bell Tolls</td>\n",
       "      <td>True</td>\n",
       "    </tr>\n",
       "    <tr>\n",
       "      <th>1</th>\n",
       "      <td>1943</td>\n",
       "      <td>1944</td>\n",
       "      <td>1</td>\n",
       "      <td>Best Performance by an Actor in a Supporting R...</td>\n",
       "      <td>Akim Tamiroff</td>\n",
       "      <td>For Whom The Bell Tolls</td>\n",
       "      <td>True</td>\n",
       "    </tr>\n",
       "  </tbody>\n",
       "</table>\n",
       "</div>"
      ],
      "text/plain": [
       "   year_film  year_award  ceremony  \\\n",
       "0       1943        1944         1   \n",
       "1       1943        1944         1   \n",
       "\n",
       "                                            category         nominee  \\\n",
       "0  Best Performance by an Actress in a Supporting...  Katina Paxinou   \n",
       "1  Best Performance by an Actor in a Supporting R...   Akim Tamiroff   \n",
       "\n",
       "                      film   win  \n",
       "0  For Whom The Bell Tolls  True  \n",
       "1  For Whom The Bell Tolls  True  "
      ]
     },
     "execution_count": 3,
     "metadata": {},
     "output_type": "execute_result"
    }
   ],
   "source": [
    "df_golden = pd.read_csv('../data/raw/golden_globe_awards.csv')\n",
    "df_golden.head(2)"
   ]
  },
  {
   "cell_type": "code",
   "execution_count": 4,
   "id": "b75bb9bd",
   "metadata": {},
   "outputs": [],
   "source": [
    "df_imdb = pd.read_csv('../data/raw/imdb_movie_data_2023.csv')"
   ]
  },
  {
   "cell_type": "code",
   "execution_count": 5,
   "id": "130cefa4",
   "metadata": {
    "scrolled": true
   },
   "outputs": [
    {
     "data": {
      "text/html": [
       "<div>\n",
       "<style scoped>\n",
       "    .dataframe tbody tr th:only-of-type {\n",
       "        vertical-align: middle;\n",
       "    }\n",
       "\n",
       "    .dataframe tbody tr th {\n",
       "        vertical-align: top;\n",
       "    }\n",
       "\n",
       "    .dataframe thead th {\n",
       "        text-align: right;\n",
       "    }\n",
       "</style>\n",
       "<table border=\"1\" class=\"dataframe\">\n",
       "  <thead>\n",
       "    <tr style=\"text-align: right;\">\n",
       "      <th></th>\n",
       "      <th>Moive Name</th>\n",
       "      <th>Rating</th>\n",
       "      <th>Votes</th>\n",
       "      <th>Meta Score</th>\n",
       "      <th>Genre</th>\n",
       "      <th>PG Rating</th>\n",
       "      <th>Year</th>\n",
       "      <th>Duration</th>\n",
       "      <th>Cast</th>\n",
       "      <th>Director</th>\n",
       "    </tr>\n",
       "  </thead>\n",
       "  <tbody>\n",
       "    <tr>\n",
       "      <th>0</th>\n",
       "      <td>Leave the World Behind</td>\n",
       "      <td>6.5</td>\n",
       "      <td>90000.0</td>\n",
       "      <td>67.0</td>\n",
       "      <td>Drama, Mystery, Thriller</td>\n",
       "      <td>R</td>\n",
       "      <td>2023</td>\n",
       "      <td>2h 18m</td>\n",
       "      <td>Julia Roberts, Mahershala Ali, Ethan Hawke, My...</td>\n",
       "      <td>Sam Esmail</td>\n",
       "    </tr>\n",
       "    <tr>\n",
       "      <th>1</th>\n",
       "      <td>Wonka</td>\n",
       "      <td>7.4</td>\n",
       "      <td>24000.0</td>\n",
       "      <td>66.0</td>\n",
       "      <td>Adventure, Comedy, Family</td>\n",
       "      <td>PG</td>\n",
       "      <td>2023</td>\n",
       "      <td>1h 56m</td>\n",
       "      <td>Timothée Chalamet, Gustave Die, Murray McArthu...</td>\n",
       "      <td>Paul King</td>\n",
       "    </tr>\n",
       "  </tbody>\n",
       "</table>\n",
       "</div>"
      ],
      "text/plain": [
       "                Moive Name  Rating    Votes  Meta Score  \\\n",
       "0   Leave the World Behind     6.5  90000.0        67.0   \n",
       "1                    Wonka     7.4  24000.0        66.0   \n",
       "\n",
       "                       Genre PG Rating  Year Duration  \\\n",
       "0   Drama, Mystery, Thriller         R  2023   2h 18m   \n",
       "1  Adventure, Comedy, Family        PG  2023   1h 56m   \n",
       "\n",
       "                                                Cast    Director  \n",
       "0  Julia Roberts, Mahershala Ali, Ethan Hawke, My...  Sam Esmail  \n",
       "1  Timothée Chalamet, Gustave Die, Murray McArthu...   Paul King  "
      ]
     },
     "execution_count": 5,
     "metadata": {},
     "output_type": "execute_result"
    }
   ],
   "source": [
    "#IMDB!!!!\n",
    "df_imdb.drop('Unnamed: 0',axis=1,inplace=True)\n",
    "df_imdb.head(2)"
   ]
  },
  {
   "cell_type": "code",
   "execution_count": 6,
   "id": "38ce9ace",
   "metadata": {},
   "outputs": [],
   "source": [
    "#Nos enfocamos en cada DF por separado\n",
    "#queremos comprobar los datos con los golden globes, que no empezaron hasta 1944, por lo que la información de años anteriores no nos vale\n",
    "#el DF incluye información de nominados y ganadores. Mantendremos las dos para comprobar si los nominados suelen ser los mismos\n",
    "#el número de la edición de la ceremonia (columna 'Ceremony') no nos hace falta teniedo ya el año de la ceremonia\n",
    "#df_oscars y df_golden comparten una estructura similar de columnas, así que el trabajo de limpieza se centrará en unificar formato y categorías de premios, comprobar que los nombres de películas y actores están escritos igual, etc.\n",
    "#propuesta --- hacer un count de premios incluyendo todas las categorías, y dejar las categorías específicas en comentarios. Igual sacar columnas para Best movie -- True y Best director -- True\n",
    "\n"
   ]
  },
  {
   "cell_type": "code",
   "execution_count": 7,
   "id": "4d5deaca",
   "metadata": {},
   "outputs": [
    {
     "data": {
      "text/html": [
       "<div>\n",
       "<style scoped>\n",
       "    .dataframe tbody tr th:only-of-type {\n",
       "        vertical-align: middle;\n",
       "    }\n",
       "\n",
       "    .dataframe tbody tr th {\n",
       "        vertical-align: top;\n",
       "    }\n",
       "\n",
       "    .dataframe thead th {\n",
       "        text-align: right;\n",
       "    }\n",
       "</style>\n",
       "<table border=\"1\" class=\"dataframe\">\n",
       "  <thead>\n",
       "    <tr style=\"text-align: right;\">\n",
       "      <th></th>\n",
       "      <th>year_film</th>\n",
       "      <th>year_award</th>\n",
       "      <th>ceremony</th>\n",
       "      <th>category</th>\n",
       "      <th>nominee</th>\n",
       "      <th>film</th>\n",
       "      <th>win</th>\n",
       "    </tr>\n",
       "  </thead>\n",
       "  <tbody>\n",
       "    <tr>\n",
       "      <th>0</th>\n",
       "      <td>1943</td>\n",
       "      <td>1944</td>\n",
       "      <td>1</td>\n",
       "      <td>Best Performance by an Actress in a Supporting...</td>\n",
       "      <td>Katina Paxinou</td>\n",
       "      <td>For Whom The Bell Tolls</td>\n",
       "      <td>True</td>\n",
       "    </tr>\n",
       "    <tr>\n",
       "      <th>1</th>\n",
       "      <td>1943</td>\n",
       "      <td>1944</td>\n",
       "      <td>1</td>\n",
       "      <td>Best Performance by an Actor in a Supporting R...</td>\n",
       "      <td>Akim Tamiroff</td>\n",
       "      <td>For Whom The Bell Tolls</td>\n",
       "      <td>True</td>\n",
       "    </tr>\n",
       "  </tbody>\n",
       "</table>\n",
       "</div>"
      ],
      "text/plain": [
       "   year_film  year_award  ceremony  \\\n",
       "0       1943        1944         1   \n",
       "1       1943        1944         1   \n",
       "\n",
       "                                            category         nominee  \\\n",
       "0  Best Performance by an Actress in a Supporting...  Katina Paxinou   \n",
       "1  Best Performance by an Actor in a Supporting R...   Akim Tamiroff   \n",
       "\n",
       "                      film   win  \n",
       "0  For Whom The Bell Tolls  True  \n",
       "1  For Whom The Bell Tolls  True  "
      ]
     },
     "execution_count": 7,
     "metadata": {},
     "output_type": "execute_result"
    }
   ],
   "source": [
    "df_golden.head(2)"
   ]
  },
  {
   "cell_type": "code",
   "execution_count": 8,
   "id": "68fe90e8",
   "metadata": {},
   "outputs": [
    {
     "data": {
      "text/html": [
       "<div>\n",
       "<style scoped>\n",
       "    .dataframe tbody tr th:only-of-type {\n",
       "        vertical-align: middle;\n",
       "    }\n",
       "\n",
       "    .dataframe tbody tr th {\n",
       "        vertical-align: top;\n",
       "    }\n",
       "\n",
       "    .dataframe thead th {\n",
       "        text-align: right;\n",
       "    }\n",
       "</style>\n",
       "<table border=\"1\" class=\"dataframe\">\n",
       "  <thead>\n",
       "    <tr style=\"text-align: right;\">\n",
       "      <th></th>\n",
       "      <th>year_film</th>\n",
       "      <th>year_ceremony</th>\n",
       "      <th>ceremony</th>\n",
       "      <th>category</th>\n",
       "      <th>name</th>\n",
       "      <th>film</th>\n",
       "      <th>winner</th>\n",
       "    </tr>\n",
       "  </thead>\n",
       "  <tbody>\n",
       "    <tr>\n",
       "      <th>0</th>\n",
       "      <td>1927</td>\n",
       "      <td>1928</td>\n",
       "      <td>1</td>\n",
       "      <td>ACTOR</td>\n",
       "      <td>Richard Barthelmess</td>\n",
       "      <td>The Noose</td>\n",
       "      <td>False</td>\n",
       "    </tr>\n",
       "    <tr>\n",
       "      <th>1</th>\n",
       "      <td>1927</td>\n",
       "      <td>1928</td>\n",
       "      <td>1</td>\n",
       "      <td>ACTOR</td>\n",
       "      <td>Emil Jannings</td>\n",
       "      <td>The Last Command</td>\n",
       "      <td>True</td>\n",
       "    </tr>\n",
       "  </tbody>\n",
       "</table>\n",
       "</div>"
      ],
      "text/plain": [
       "   year_film  year_ceremony  ceremony category                 name  \\\n",
       "0       1927           1928         1    ACTOR  Richard Barthelmess   \n",
       "1       1927           1928         1    ACTOR        Emil Jannings   \n",
       "\n",
       "               film  winner  \n",
       "0         The Noose   False  \n",
       "1  The Last Command    True  "
      ]
     },
     "execution_count": 8,
     "metadata": {},
     "output_type": "execute_result"
    }
   ],
   "source": [
    "df_oscars.head(2)"
   ]
  },
  {
   "cell_type": "code",
   "execution_count": 9,
   "id": "4447b719",
   "metadata": {},
   "outputs": [
    {
     "name": "stdout",
     "output_type": "stream",
     "text": [
      "<class 'pandas.core.frame.DataFrame'>\n",
      "RangeIndex: 10765 entries, 0 to 10764\n",
      "Data columns (total 7 columns):\n",
      " #   Column         Non-Null Count  Dtype \n",
      "---  ------         --------------  ----- \n",
      " 0   year_film      10765 non-null  int64 \n",
      " 1   year_ceremony  10765 non-null  int64 \n",
      " 2   ceremony       10765 non-null  int64 \n",
      " 3   category       10765 non-null  object\n",
      " 4   name           10761 non-null  object\n",
      " 5   film           10450 non-null  object\n",
      " 6   winner         10765 non-null  bool  \n",
      "dtypes: bool(1), int64(3), object(3)\n",
      "memory usage: 515.3+ KB\n"
     ]
    }
   ],
   "source": [
    "df_oscars.info()"
   ]
  },
  {
   "cell_type": "code",
   "execution_count": 10,
   "id": "7d515e30",
   "metadata": {},
   "outputs": [],
   "source": [
    "df_oscars.drop('ceremony',axis=1,inplace=True)"
   ]
  },
  {
   "cell_type": "code",
   "execution_count": 11,
   "id": "0faefa79",
   "metadata": {},
   "outputs": [],
   "source": [
    "#Golden Globes!!!\n",
    "df_golden.drop('ceremony',axis=1,inplace=True)"
   ]
  },
  {
   "cell_type": "code",
   "execution_count": 12,
   "id": "59d46473",
   "metadata": {},
   "outputs": [],
   "source": [
    "df_oscars.category = df_oscars.category.str.capitalize()"
   ]
  },
  {
   "cell_type": "code",
   "execution_count": 13,
   "id": "ad5f6fdb",
   "metadata": {},
   "outputs": [
    {
     "data": {
      "text/html": [
       "<div>\n",
       "<style scoped>\n",
       "    .dataframe tbody tr th:only-of-type {\n",
       "        vertical-align: middle;\n",
       "    }\n",
       "\n",
       "    .dataframe tbody tr th {\n",
       "        vertical-align: top;\n",
       "    }\n",
       "\n",
       "    .dataframe thead th {\n",
       "        text-align: right;\n",
       "    }\n",
       "</style>\n",
       "<table border=\"1\" class=\"dataframe\">\n",
       "  <thead>\n",
       "    <tr style=\"text-align: right;\">\n",
       "      <th></th>\n",
       "      <th>year_film</th>\n",
       "      <th>year_ceremony</th>\n",
       "      <th>category</th>\n",
       "      <th>name</th>\n",
       "      <th>film</th>\n",
       "      <th>winner</th>\n",
       "    </tr>\n",
       "  </thead>\n",
       "  <tbody>\n",
       "    <tr>\n",
       "      <th>4451</th>\n",
       "      <td>1967</td>\n",
       "      <td>1968</td>\n",
       "      <td>Actor</td>\n",
       "      <td>Warren Beatty</td>\n",
       "      <td>Bonnie and Clyde</td>\n",
       "      <td>False</td>\n",
       "    </tr>\n",
       "    <tr>\n",
       "      <th>4452</th>\n",
       "      <td>1967</td>\n",
       "      <td>1968</td>\n",
       "      <td>Actor</td>\n",
       "      <td>Dustin Hoffman</td>\n",
       "      <td>The Graduate</td>\n",
       "      <td>False</td>\n",
       "    </tr>\n",
       "    <tr>\n",
       "      <th>4453</th>\n",
       "      <td>1967</td>\n",
       "      <td>1968</td>\n",
       "      <td>Actor</td>\n",
       "      <td>Paul Newman</td>\n",
       "      <td>Cool Hand Luke</td>\n",
       "      <td>False</td>\n",
       "    </tr>\n",
       "    <tr>\n",
       "      <th>4454</th>\n",
       "      <td>1967</td>\n",
       "      <td>1968</td>\n",
       "      <td>Actor</td>\n",
       "      <td>Rod Steiger</td>\n",
       "      <td>In the Heat of the Night</td>\n",
       "      <td>True</td>\n",
       "    </tr>\n",
       "    <tr>\n",
       "      <th>4455</th>\n",
       "      <td>1967</td>\n",
       "      <td>1968</td>\n",
       "      <td>Actor</td>\n",
       "      <td>Spencer Tracy</td>\n",
       "      <td>Guess Who's Coming to Dinner</td>\n",
       "      <td>False</td>\n",
       "    </tr>\n",
       "    <tr>\n",
       "      <th>...</th>\n",
       "      <td>...</td>\n",
       "      <td>...</td>\n",
       "      <td>...</td>\n",
       "      <td>...</td>\n",
       "      <td>...</td>\n",
       "      <td>...</td>\n",
       "    </tr>\n",
       "    <tr>\n",
       "      <th>10760</th>\n",
       "      <td>2022</td>\n",
       "      <td>2023</td>\n",
       "      <td>Honorary award</td>\n",
       "      <td>To Euzhan Palcy, a masterful filmmaker who bro...</td>\n",
       "      <td>NaN</td>\n",
       "      <td>True</td>\n",
       "    </tr>\n",
       "    <tr>\n",
       "      <th>10761</th>\n",
       "      <td>2022</td>\n",
       "      <td>2023</td>\n",
       "      <td>Honorary award</td>\n",
       "      <td>To Diane Warren, for her genius, generosity an...</td>\n",
       "      <td>NaN</td>\n",
       "      <td>True</td>\n",
       "    </tr>\n",
       "    <tr>\n",
       "      <th>10762</th>\n",
       "      <td>2022</td>\n",
       "      <td>2023</td>\n",
       "      <td>Honorary award</td>\n",
       "      <td>To Peter Weir, a fearless and consummate filmm...</td>\n",
       "      <td>NaN</td>\n",
       "      <td>True</td>\n",
       "    </tr>\n",
       "    <tr>\n",
       "      <th>10763</th>\n",
       "      <td>2022</td>\n",
       "      <td>2023</td>\n",
       "      <td>Gordon e. sawyer award</td>\n",
       "      <td>Iain Neil</td>\n",
       "      <td>NaN</td>\n",
       "      <td>True</td>\n",
       "    </tr>\n",
       "    <tr>\n",
       "      <th>10764</th>\n",
       "      <td>2022</td>\n",
       "      <td>2023</td>\n",
       "      <td>Award of commendation</td>\n",
       "      <td>To Ryan Laney for his innovative adaptation an...</td>\n",
       "      <td>Welcome to Chechnya</td>\n",
       "      <td>True</td>\n",
       "    </tr>\n",
       "  </tbody>\n",
       "</table>\n",
       "<p>6314 rows × 6 columns</p>\n",
       "</div>"
      ],
      "text/plain": [
       "       year_film  year_ceremony                category  \\\n",
       "4451        1967           1968                   Actor   \n",
       "4452        1967           1968                   Actor   \n",
       "4453        1967           1968                   Actor   \n",
       "4454        1967           1968                   Actor   \n",
       "4455        1967           1968                   Actor   \n",
       "...          ...            ...                     ...   \n",
       "10760       2022           2023          Honorary award   \n",
       "10761       2022           2023          Honorary award   \n",
       "10762       2022           2023          Honorary award   \n",
       "10763       2022           2023  Gordon e. sawyer award   \n",
       "10764       2022           2023   Award of commendation   \n",
       "\n",
       "                                                    name  \\\n",
       "4451                                       Warren Beatty   \n",
       "4452                                      Dustin Hoffman   \n",
       "4453                                         Paul Newman   \n",
       "4454                                         Rod Steiger   \n",
       "4455                                       Spencer Tracy   \n",
       "...                                                  ...   \n",
       "10760  To Euzhan Palcy, a masterful filmmaker who bro...   \n",
       "10761  To Diane Warren, for her genius, generosity an...   \n",
       "10762  To Peter Weir, a fearless and consummate filmm...   \n",
       "10763                                          Iain Neil   \n",
       "10764  To Ryan Laney for his innovative adaptation an...   \n",
       "\n",
       "                               film  winner  \n",
       "4451               Bonnie and Clyde   False  \n",
       "4452                   The Graduate   False  \n",
       "4453                 Cool Hand Luke   False  \n",
       "4454       In the Heat of the Night    True  \n",
       "4455   Guess Who's Coming to Dinner   False  \n",
       "...                             ...     ...  \n",
       "10760                           NaN    True  \n",
       "10761                           NaN    True  \n",
       "10762                           NaN    True  \n",
       "10763                           NaN    True  \n",
       "10764           Welcome to Chechnya    True  \n",
       "\n",
       "[6314 rows x 6 columns]"
      ]
     },
     "execution_count": 13,
     "metadata": {},
     "output_type": "execute_result"
    }
   ],
   "source": [
    "#quitar premios previos a 1967, ya que en este año se realizaron grandes cambios en la estructura de los premios (eliminación de categorías black and white)\n",
    "df_oscars = df_oscars[df_oscars.year_film >= 1967]\n",
    "df_oscars"
   ]
  },
  {
   "cell_type": "code",
   "execution_count": 14,
   "id": "c68cc570",
   "metadata": {},
   "outputs": [
    {
     "data": {
      "text/plain": [
       "year_film        False\n",
       "year_ceremony    False\n",
       "category         False\n",
       "name              True\n",
       "film              True\n",
       "winner           False\n",
       "dtype: bool"
      ]
     },
     "execution_count": 14,
     "metadata": {},
     "output_type": "execute_result"
    }
   ],
   "source": [
    "df_oscars.isnull().any()"
   ]
  },
  {
   "cell_type": "code",
   "execution_count": 15,
   "id": "8426c74f",
   "metadata": {},
   "outputs": [],
   "source": [
    "nan_rows_1 = df_oscars[df_oscars.film.isnull()]"
   ]
  },
  {
   "cell_type": "code",
   "execution_count": 16,
   "id": "e759eb8b",
   "metadata": {},
   "outputs": [
    {
     "name": "stdout",
     "output_type": "stream",
     "text": [
      "<class 'pandas.core.frame.DataFrame'>\n",
      "Index: 154 entries, 4557 to 10763\n",
      "Data columns (total 6 columns):\n",
      " #   Column         Non-Null Count  Dtype \n",
      "---  ------         --------------  ----- \n",
      " 0   year_film      154 non-null    int64 \n",
      " 1   year_ceremony  154 non-null    int64 \n",
      " 2   category       154 non-null    object\n",
      " 3   name           150 non-null    object\n",
      " 4   film           0 non-null      object\n",
      " 5   winner         154 non-null    bool  \n",
      "dtypes: bool(1), int64(2), object(3)\n",
      "memory usage: 7.4+ KB\n"
     ]
    }
   ],
   "source": [
    "nan_rows_1.info()"
   ]
  },
  {
   "cell_type": "code",
   "execution_count": 17,
   "id": "0b65840f",
   "metadata": {
    "scrolled": true
   },
   "outputs": [
    {
     "data": {
      "text/html": [
       "<div>\n",
       "<style scoped>\n",
       "    .dataframe tbody tr th:only-of-type {\n",
       "        vertical-align: middle;\n",
       "    }\n",
       "\n",
       "    .dataframe tbody tr th {\n",
       "        vertical-align: top;\n",
       "    }\n",
       "\n",
       "    .dataframe thead th {\n",
       "        text-align: right;\n",
       "    }\n",
       "</style>\n",
       "<table border=\"1\" class=\"dataframe\">\n",
       "  <thead>\n",
       "    <tr style=\"text-align: right;\">\n",
       "      <th></th>\n",
       "      <th>year_film</th>\n",
       "      <th>year_ceremony</th>\n",
       "      <th>category</th>\n",
       "      <th>name</th>\n",
       "      <th>film</th>\n",
       "      <th>winner</th>\n",
       "    </tr>\n",
       "  </thead>\n",
       "  <tbody>\n",
       "    <tr>\n",
       "      <th>10759</th>\n",
       "      <td>2022</td>\n",
       "      <td>2023</td>\n",
       "      <td>Jean hersholt humanitarian award</td>\n",
       "      <td>NaN</td>\n",
       "      <td>NaN</td>\n",
       "      <td>True</td>\n",
       "    </tr>\n",
       "    <tr>\n",
       "      <th>10760</th>\n",
       "      <td>2022</td>\n",
       "      <td>2023</td>\n",
       "      <td>Honorary award</td>\n",
       "      <td>To Euzhan Palcy, a masterful filmmaker who bro...</td>\n",
       "      <td>NaN</td>\n",
       "      <td>True</td>\n",
       "    </tr>\n",
       "    <tr>\n",
       "      <th>10761</th>\n",
       "      <td>2022</td>\n",
       "      <td>2023</td>\n",
       "      <td>Honorary award</td>\n",
       "      <td>To Diane Warren, for her genius, generosity an...</td>\n",
       "      <td>NaN</td>\n",
       "      <td>True</td>\n",
       "    </tr>\n",
       "    <tr>\n",
       "      <th>10762</th>\n",
       "      <td>2022</td>\n",
       "      <td>2023</td>\n",
       "      <td>Honorary award</td>\n",
       "      <td>To Peter Weir, a fearless and consummate filmm...</td>\n",
       "      <td>NaN</td>\n",
       "      <td>True</td>\n",
       "    </tr>\n",
       "    <tr>\n",
       "      <th>10763</th>\n",
       "      <td>2022</td>\n",
       "      <td>2023</td>\n",
       "      <td>Gordon e. sawyer award</td>\n",
       "      <td>Iain Neil</td>\n",
       "      <td>NaN</td>\n",
       "      <td>True</td>\n",
       "    </tr>\n",
       "  </tbody>\n",
       "</table>\n",
       "</div>"
      ],
      "text/plain": [
       "       year_film  year_ceremony                          category  \\\n",
       "10759       2022           2023  Jean hersholt humanitarian award   \n",
       "10760       2022           2023                    Honorary award   \n",
       "10761       2022           2023                    Honorary award   \n",
       "10762       2022           2023                    Honorary award   \n",
       "10763       2022           2023            Gordon e. sawyer award   \n",
       "\n",
       "                                                    name film  winner  \n",
       "10759                                                NaN  NaN    True  \n",
       "10760  To Euzhan Palcy, a masterful filmmaker who bro...  NaN    True  \n",
       "10761  To Diane Warren, for her genius, generosity an...  NaN    True  \n",
       "10762  To Peter Weir, a fearless and consummate filmm...  NaN    True  \n",
       "10763                                          Iain Neil  NaN    True  "
      ]
     },
     "execution_count": 17,
     "metadata": {},
     "output_type": "execute_result"
    }
   ],
   "source": [
    "#comprobar contenido de las filas con nan values en películas. parece que es por premios especiales y premios honorarios, por lo que las eliminamos después\n",
    "nan_rows_1.tail(5)"
   ]
  },
  {
   "cell_type": "code",
   "execution_count": 18,
   "id": "cc012923",
   "metadata": {},
   "outputs": [],
   "source": [
    "df_oscars.dropna(subset='film', inplace = True)"
   ]
  },
  {
   "cell_type": "code",
   "execution_count": 19,
   "id": "c3d0b136",
   "metadata": {
    "scrolled": true
   },
   "outputs": [
    {
     "data": {
      "text/plain": [
       "year_film        False\n",
       "year_ceremony    False\n",
       "category         False\n",
       "name             False\n",
       "film             False\n",
       "winner           False\n",
       "dtype: bool"
      ]
     },
     "execution_count": 19,
     "metadata": {},
     "output_type": "execute_result"
    }
   ],
   "source": [
    "df_oscars.isnull().any()"
   ]
  },
  {
   "cell_type": "code",
   "execution_count": 20,
   "id": "141444bf",
   "metadata": {},
   "outputs": [],
   "source": [
    "subset = df_oscars[(df_oscars.year_film == 1967) & (df_oscars.winner == True)]"
   ]
  },
  {
   "cell_type": "code",
   "execution_count": 21,
   "id": "c7346fb3",
   "metadata": {},
   "outputs": [],
   "source": [
    "df_oscars = df_oscars.drop(df_oscars[df_oscars.category == 'Award of commendation'].index)"
   ]
  },
  {
   "cell_type": "code",
   "execution_count": 22,
   "id": "8d7282fe",
   "metadata": {},
   "outputs": [],
   "source": [
    "changes_category_values = {\n",
    "    'Actress':'Actress in a leading role',\n",
    "    'Actor': 'Actor in a leading role',\n",
    "    'Art direction': 'Production design',\n",
    "    'Best motion picture': 'Picture',\n",
    "    'Directing':'Director',\n",
    "    'Makeup': 'Makeup and hairstyling',\n",
    "    'Sound':'Sound effects',\n",
    "    'Sound effects editing':'Sound effects',\n",
    "    'Sound mixing':'Sound effects'\n",
    "}\n",
    "\n",
    "changes_category_strings = {\n",
    "    'subject': 'film',\n",
    "    'cartoon': 'animated',\n",
    "    '(':'',\n",
    "    ')':'',\n",
    "    'Special achievement award ':'',\n",
    "    'Special ':''  \n",
    "}"
   ]
  },
  {
   "cell_type": "code",
   "execution_count": 23,
   "id": "a26c587d",
   "metadata": {},
   "outputs": [],
   "source": [
    "for k,v in changes_category_strings.items():\n",
    "    df_oscars.category = df_oscars.category.str.replace(k,v)"
   ]
  },
  {
   "cell_type": "code",
   "execution_count": 24,
   "id": "818cfb8d",
   "metadata": {},
   "outputs": [],
   "source": [
    "for k,v in changes_category_values.items():\n",
    "    df_oscars.replace(k,v,inplace = True)"
   ]
  },
  {
   "cell_type": "code",
   "execution_count": 36,
   "id": "308a89e1",
   "metadata": {
    "scrolled": true
   },
   "outputs": [
    {
     "data": {
      "text/plain": [
       "array(['Actor in a leading role', 'Actor in a supporting role',\n",
       "       'Actress in a leading role', 'Actress in a supporting role',\n",
       "       'Production design', 'Cinematography', 'Costume design',\n",
       "       'Director', 'Documentary feature', 'Documentary short film',\n",
       "       'Film editing', 'Foreign language film', 'Original score',\n",
       "       'Original song', 'Best picture', 'Short film animated',\n",
       "       'Short film live action', 'Sound effects', 'visual effects',\n",
       "       'Writing screenplay--based on material from another medium',\n",
       "       'Writing story and screenplay--written directly for the screen',\n",
       "       'Writing story and screenplay--based on material not previously published or produced',\n",
       "       'Writing story and screenplay--based on factual material or material not previously published or produced',\n",
       "       'Writing original screenplay',\n",
       "       'Writing screenplay adapted from other material', 'sound effects',\n",
       "       'Writing screenplay written directly for the screen--based on factual material or on story material not previously published or produced',\n",
       "       'Visual effects', 'sound effects editing',\n",
       "       'Writing screenplay based on material from another medium',\n",
       "       'Writing screenplay written directly for the screen',\n",
       "       'sound editing', 'Short film dramatic live action',\n",
       "       'Makeup and hairstyling',\n",
       "       'Writing screenplay based on material previously produced or published',\n",
       "       'Sound editing', 'Animated feature film',\n",
       "       'Writing adapted screenplay', 'International feature film',\n",
       "       'Documentary feature film'], dtype=object)"
      ]
     },
     "execution_count": 36,
     "metadata": {},
     "output_type": "execute_result"
    }
   ],
   "source": [
    "df_oscars.category.unique()"
   ]
  },
  {
   "cell_type": "code",
   "execution_count": 26,
   "id": "01d52df7",
   "metadata": {},
   "outputs": [],
   "source": [
    "#Crear sets con categorías similares para ver qué más se puede limpiar:"
   ]
  },
  {
   "cell_type": "code",
   "execution_count": 27,
   "id": "2b74c177",
   "metadata": {
    "scrolled": true
   },
   "outputs": [
    {
     "data": {
      "text/plain": [
       "{'Music adaptation score',\n",
       " 'Music original dramatic score',\n",
       " 'Music original music score',\n",
       " 'Music original musical or comedy score',\n",
       " 'Music original score',\n",
       " 'Music original score--for a motion picture [not a musical]',\n",
       " 'Music original song',\n",
       " 'Music original song score',\n",
       " 'Music original song score and its adaptation -or- adaptation score',\n",
       " 'Music original song score and its adaptation or adaptation score',\n",
       " 'Music original song score or adaptation score',\n",
       " 'Music score of a musical picture--original or adaptation',\n",
       " 'Music scoring of music--adaptation or treatment',\n",
       " 'Music scoring: adaptation and original song score',\n",
       " 'Music scoring: original song score and adaptation -or- scoring: adaptation',\n",
       " 'Music song',\n",
       " 'Music song--original for the picture'}"
      ]
     },
     "execution_count": 27,
     "metadata": {},
     "output_type": "execute_result"
    }
   ],
   "source": [
    "music_categories = []\n",
    "for cat in df_oscars.category:\n",
    "    if re.match(r'Music',cat,flags=re.IGNORECASE):\n",
    "        music_categories.append(cat)\n",
    "music_categories = set(music_categories)\n",
    "music_categories"
   ]
  },
  {
   "cell_type": "code",
   "execution_count": 33,
   "id": "0b5278fd",
   "metadata": {},
   "outputs": [],
   "source": [
    "music_clean = {}\n",
    "for m in music_categories:\n",
    "    if re.search(r'\\b\\w*scor\\w*\\b', m, flags=re.IGNORECASE):\n",
    "        music_clean[m] = 'Original score'\n",
    "    else:\n",
    "        music_clean[m] = 'Original song'"
   ]
  },
  {
   "cell_type": "code",
   "execution_count": 34,
   "id": "29e8cb08",
   "metadata": {},
   "outputs": [
    {
     "data": {
      "text/plain": [
       "{'Music original song': 'Original song',\n",
       " 'Music adaptation score': 'Original score',\n",
       " 'Music original music score': 'Original score',\n",
       " 'Music score of a musical picture--original or adaptation': 'Original score',\n",
       " 'Music scoring: adaptation and original song score': 'Original score',\n",
       " 'Music song--original for the picture': 'Original song',\n",
       " 'Music original song score and its adaptation -or- adaptation score': 'Original score',\n",
       " 'Music scoring: original song score and adaptation -or- scoring: adaptation': 'Original score',\n",
       " 'Music original song score or adaptation score': 'Original score',\n",
       " 'Music original musical or comedy score': 'Original score',\n",
       " 'Music scoring of music--adaptation or treatment': 'Original score',\n",
       " 'Music original song score': 'Original score',\n",
       " 'Music original score--for a motion picture [not a musical]': 'Original score',\n",
       " 'Music original song score and its adaptation or adaptation score': 'Original score',\n",
       " 'Music song': 'Original song',\n",
       " 'Music original score': 'Original score',\n",
       " 'Music original dramatic score': 'Original score'}"
      ]
     },
     "execution_count": 34,
     "metadata": {},
     "output_type": "execute_result"
    }
   ],
   "source": [
    "music_clean"
   ]
  },
  {
   "cell_type": "code",
   "execution_count": 35,
   "id": "d341f2e0",
   "metadata": {},
   "outputs": [],
   "source": [
    "for k,v in music_clean.items():\n",
    "    df_oscars.replace(k,v,inplace = True)"
   ]
  },
  {
   "cell_type": "code",
   "execution_count": 28,
   "id": "eb81027e",
   "metadata": {
    "scrolled": true
   },
   "outputs": [
    {
     "data": {
      "text/plain": [
       "{'Writing adapted screenplay',\n",
       " 'Writing original screenplay',\n",
       " 'Writing screenplay adapted from other material',\n",
       " 'Writing screenplay based on material from another medium',\n",
       " 'Writing screenplay based on material previously produced or published',\n",
       " 'Writing screenplay written directly for the screen',\n",
       " 'Writing screenplay written directly for the screen--based on factual material or on story material not previously published or produced',\n",
       " 'Writing screenplay--based on material from another medium',\n",
       " 'Writing story and screenplay--based on factual material or material not previously published or produced',\n",
       " 'Writing story and screenplay--based on material not previously published or produced',\n",
       " 'Writing story and screenplay--written directly for the screen'}"
      ]
     },
     "execution_count": 28,
     "metadata": {},
     "output_type": "execute_result"
    }
   ],
   "source": [
    "writing_categories = []\n",
    "for cat in df_oscars.category:\n",
    "    if re.match(r'Writing',cat,flags=re.IGNORECASE):\n",
    "        writing_categories.append(cat)\n",
    "writing_categories = set(writing_categories)\n",
    "writing_categories"
   ]
  },
  {
   "cell_type": "code",
   "execution_count": null,
   "id": "fae55d57",
   "metadata": {},
   "outputs": [],
   "source": [
    "music_clean = {}\n",
    "for m in music_categories:\n",
    "    if re.search(r'\\b\\w*scor\\w*\\b', m, flags=re.IGNORECASE):\n",
    "        music_clean[m] = 'Original score'\n",
    "    else:\n",
    "        music_clean[m] = 'Original song'"
   ]
  }
 ],
 "metadata": {
  "kernelspec": {
   "display_name": "Python 3 (ipykernel)",
   "language": "python",
   "name": "python3"
  },
  "language_info": {
   "codemirror_mode": {
    "name": "ipython",
    "version": 3
   },
   "file_extension": ".py",
   "mimetype": "text/x-python",
   "name": "python",
   "nbconvert_exporter": "python",
   "pygments_lexer": "ipython3",
   "version": "3.11.5"
  }
 },
 "nbformat": 4,
 "nbformat_minor": 5
}
