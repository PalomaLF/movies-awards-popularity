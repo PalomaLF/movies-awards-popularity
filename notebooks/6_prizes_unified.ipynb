{
 "cells": [
  {
   "cell_type": "code",
   "execution_count": 1,
   "id": "3447745e",
   "metadata": {},
   "outputs": [],
   "source": [
    "import pandas as pd\n",
    "import re\n",
    "import cleaning_functions as cf"
   ]
  },
  {
   "cell_type": "code",
   "execution_count": 2,
   "id": "388ed09d",
   "metadata": {},
   "outputs": [],
   "source": [
    "oscars = pd.read_csv('../data/Clean/oscars_cleaned.csv')"
   ]
  },
  {
   "cell_type": "code",
   "execution_count": 4,
   "id": "196a1319",
   "metadata": {},
   "outputs": [
    {
     "data": {
      "text/html": [
       "<div>\n",
       "<style scoped>\n",
       "    .dataframe tbody tr th:only-of-type {\n",
       "        vertical-align: middle;\n",
       "    }\n",
       "\n",
       "    .dataframe tbody tr th {\n",
       "        vertical-align: top;\n",
       "    }\n",
       "\n",
       "    .dataframe thead th {\n",
       "        text-align: right;\n",
       "    }\n",
       "</style>\n",
       "<table border=\"1\" class=\"dataframe\">\n",
       "  <thead>\n",
       "    <tr style=\"text-align: right;\">\n",
       "      <th></th>\n",
       "      <th>year_film</th>\n",
       "      <th>year_ceremony</th>\n",
       "      <th>Oscars nominations</th>\n",
       "      <th>name</th>\n",
       "      <th>film</th>\n",
       "      <th>Oscars winner</th>\n",
       "    </tr>\n",
       "  </thead>\n",
       "  <tbody>\n",
       "    <tr>\n",
       "      <th>0</th>\n",
       "      <td>1967</td>\n",
       "      <td>1968</td>\n",
       "      <td>Actor in a leading role</td>\n",
       "      <td>Warren Beatty</td>\n",
       "      <td>Bonnie and Clyde</td>\n",
       "      <td>False</td>\n",
       "    </tr>\n",
       "    <tr>\n",
       "      <th>1</th>\n",
       "      <td>1967</td>\n",
       "      <td>1968</td>\n",
       "      <td>Actor in a leading role</td>\n",
       "      <td>Dustin Hoffman</td>\n",
       "      <td>The Graduate</td>\n",
       "      <td>False</td>\n",
       "    </tr>\n",
       "  </tbody>\n",
       "</table>\n",
       "</div>"
      ],
      "text/plain": [
       "   year_film  year_ceremony       Oscars nominations            name  \\\n",
       "0       1967           1968  Actor in a leading role   Warren Beatty   \n",
       "1       1967           1968  Actor in a leading role  Dustin Hoffman   \n",
       "\n",
       "               film  Oscars winner  \n",
       "0  Bonnie and Clyde          False  \n",
       "1      The Graduate          False  "
      ]
     },
     "execution_count": 4,
     "metadata": {},
     "output_type": "execute_result"
    }
   ],
   "source": [
    "oscars.head(2)"
   ]
  },
  {
   "cell_type": "code",
   "execution_count": null,
   "id": "c83dc92a",
   "metadata": {},
   "outputs": [],
   "source": [
    "golden = pd.read_csv('../data/Clean/oscars_cleaned.csv')"
   ]
  },
  {
   "cell_type": "code",
   "execution_count": null,
   "id": "8f63231f",
   "metadata": {},
   "outputs": [],
   "source": []
  }
 ],
 "metadata": {
  "kernelspec": {
   "display_name": "Python 3 (ipykernel)",
   "language": "python",
   "name": "python3"
  },
  "language_info": {
   "codemirror_mode": {
    "name": "ipython",
    "version": 3
   },
   "file_extension": ".py",
   "mimetype": "text/x-python",
   "name": "python",
   "nbconvert_exporter": "python",
   "pygments_lexer": "ipython3",
   "version": "3.11.5"
  }
 },
 "nbformat": 4,
 "nbformat_minor": 5
}
