{
 "cells": [
  {
   "cell_type": "code",
   "execution_count": 1,
   "id": "671d0f18",
   "metadata": {},
   "outputs": [],
   "source": [
    "import pandas as pd\n",
    "import requests\n",
    "import re\n",
    "import cleaning_functions as cf"
   ]
  },
  {
   "cell_type": "code",
   "execution_count": 2,
   "id": "21457bc1",
   "metadata": {},
   "outputs": [],
   "source": [
    "df_golden_s = pd.read_csv('../data/raw/golden_scrapping.csv')"
   ]
  },
  {
   "cell_type": "code",
   "execution_count": 3,
   "id": "6ebaab27",
   "metadata": {},
   "outputs": [
    {
     "data": {
      "text/html": [
       "<div>\n",
       "<style scoped>\n",
       "    .dataframe tbody tr th:only-of-type {\n",
       "        vertical-align: middle;\n",
       "    }\n",
       "\n",
       "    .dataframe tbody tr th {\n",
       "        vertical-align: top;\n",
       "    }\n",
       "\n",
       "    .dataframe thead th {\n",
       "        text-align: right;\n",
       "    }\n",
       "</style>\n",
       "<table border=\"1\" class=\"dataframe\">\n",
       "  <thead>\n",
       "    <tr style=\"text-align: right;\">\n",
       "      <th></th>\n",
       "      <th>year_film</th>\n",
       "      <th>year_award</th>\n",
       "      <th>Golden Globes nominations</th>\n",
       "      <th>nominee</th>\n",
       "      <th>film</th>\n",
       "      <th>Golden Globes winner</th>\n",
       "    </tr>\n",
       "  </thead>\n",
       "  <tbody>\n",
       "    <tr>\n",
       "      <th>0</th>\n",
       "      <td>2020</td>\n",
       "      <td>2021</td>\n",
       "      <td>Best Director - Motion Picture</td>\n",
       "      <td>Chloé Zhao</td>\n",
       "      <td>Nomadland</td>\n",
       "      <td>True</td>\n",
       "    </tr>\n",
       "    <tr>\n",
       "      <th>1</th>\n",
       "      <td>2020</td>\n",
       "      <td>2021</td>\n",
       "      <td>Best Director - Motion Picture</td>\n",
       "      <td>Aaron Sorkin</td>\n",
       "      <td>Trial of the Chicago 7, The</td>\n",
       "      <td>False</td>\n",
       "    </tr>\n",
       "    <tr>\n",
       "      <th>2</th>\n",
       "      <td>2020</td>\n",
       "      <td>2021</td>\n",
       "      <td>Best Director - Motion Picture</td>\n",
       "      <td>David Fincher</td>\n",
       "      <td>Mank</td>\n",
       "      <td>False</td>\n",
       "    </tr>\n",
       "  </tbody>\n",
       "</table>\n",
       "</div>"
      ],
      "text/plain": [
       "   year_film  year_award       Golden Globes nominations        nominee  \\\n",
       "0       2020        2021  Best Director - Motion Picture     Chloé Zhao   \n",
       "1       2020        2021  Best Director - Motion Picture   Aaron Sorkin   \n",
       "2       2020        2021  Best Director - Motion Picture  David Fincher   \n",
       "\n",
       "                          film  Golden Globes winner  \n",
       "0                    Nomadland                  True  \n",
       "1  Trial of the Chicago 7, The                 False  \n",
       "2                         Mank                 False  "
      ]
     },
     "execution_count": 3,
     "metadata": {},
     "output_type": "execute_result"
    }
   ],
   "source": [
    "df_golden_s.head(3)"
   ]
  },
  {
   "cell_type": "code",
   "execution_count": 4,
   "id": "1186f8ce",
   "metadata": {},
   "outputs": [],
   "source": [
    "#seguimos el mismo proceso de limpieza que con el df original de los golden globes"
   ]
  },
  {
   "cell_type": "code",
   "execution_count": 5,
   "id": "5efd282a",
   "metadata": {},
   "outputs": [],
   "source": [
    "df_golden_s['Golden Globes nominations'] = df_golden_s['Golden Globes nominations'].str.capitalize()"
   ]
  },
  {
   "cell_type": "code",
   "execution_count": 6,
   "id": "27d93da5",
   "metadata": {},
   "outputs": [
    {
     "name": "stderr",
     "output_type": "stream",
     "text": [
      "/Users/paloma/Desktop/Ironhack/movies-awards-popularity/notebooks/cleaning_functions.py:30: UserWarning: Boolean Series key will be reindexed to match DataFrame index.\n",
      "  df= df.drop(df[df_column == l].index)\n",
      "/Users/paloma/Desktop/Ironhack/movies-awards-popularity/notebooks/cleaning_functions.py:30: UserWarning: Boolean Series key will be reindexed to match DataFrame index.\n",
      "  df= df.drop(df[df_column == l].index)\n",
      "/Users/paloma/Desktop/Ironhack/movies-awards-popularity/notebooks/cleaning_functions.py:30: UserWarning: Boolean Series key will be reindexed to match DataFrame index.\n",
      "  df= df.drop(df[df_column == l].index)\n",
      "/Users/paloma/Desktop/Ironhack/movies-awards-popularity/notebooks/cleaning_functions.py:30: UserWarning: Boolean Series key will be reindexed to match DataFrame index.\n",
      "  df= df.drop(df[df_column == l].index)\n",
      "/Users/paloma/Desktop/Ironhack/movies-awards-popularity/notebooks/cleaning_functions.py:30: UserWarning: Boolean Series key will be reindexed to match DataFrame index.\n",
      "  df= df.drop(df[df_column == l].index)\n",
      "/Users/paloma/Desktop/Ironhack/movies-awards-popularity/notebooks/cleaning_functions.py:30: UserWarning: Boolean Series key will be reindexed to match DataFrame index.\n",
      "  df= df.drop(df[df_column == l].index)\n",
      "/Users/paloma/Desktop/Ironhack/movies-awards-popularity/notebooks/cleaning_functions.py:30: UserWarning: Boolean Series key will be reindexed to match DataFrame index.\n",
      "  df= df.drop(df[df_column == l].index)\n",
      "/Users/paloma/Desktop/Ironhack/movies-awards-popularity/notebooks/cleaning_functions.py:30: UserWarning: Boolean Series key will be reindexed to match DataFrame index.\n",
      "  df= df.drop(df[df_column == l].index)\n",
      "/Users/paloma/Desktop/Ironhack/movies-awards-popularity/notebooks/cleaning_functions.py:30: UserWarning: Boolean Series key will be reindexed to match DataFrame index.\n",
      "  df= df.drop(df[df_column == l].index)\n",
      "/Users/paloma/Desktop/Ironhack/movies-awards-popularity/notebooks/cleaning_functions.py:30: UserWarning: Boolean Series key will be reindexed to match DataFrame index.\n",
      "  df= df.drop(df[df_column == l].index)\n",
      "/Users/paloma/Desktop/Ironhack/movies-awards-popularity/notebooks/cleaning_functions.py:30: UserWarning: Boolean Series key will be reindexed to match DataFrame index.\n",
      "  df= df.drop(df[df_column == l].index)\n",
      "/Users/paloma/Desktop/Ironhack/movies-awards-popularity/notebooks/cleaning_functions.py:30: UserWarning: Boolean Series key will be reindexed to match DataFrame index.\n",
      "  df= df.drop(df[df_column == l].index)\n",
      "/Users/paloma/Desktop/Ironhack/movies-awards-popularity/notebooks/cleaning_functions.py:30: UserWarning: Boolean Series key will be reindexed to match DataFrame index.\n",
      "  df= df.drop(df[df_column == l].index)\n",
      "/Users/paloma/Desktop/Ironhack/movies-awards-popularity/notebooks/cleaning_functions.py:30: UserWarning: Boolean Series key will be reindexed to match DataFrame index.\n",
      "  df= df.drop(df[df_column == l].index)\n"
     ]
    }
   ],
   "source": [
    "#eliminamos categorías televisivas:\n",
    "#primero eliminamos las filas con categorías sobre televisión, ya que nuestro estudio se centra en cine/películas\n",
    "tv_categories = cf.values_iterable_regex(df_golden_s['Golden Globes nominations'],r'\\b\\w*television\\w*\\b')\n",
    "df_golden_s = cf.drop_rows_by_value(df_golden_s,df_golden_s['Golden Globes nominations'],tv_categories)                          "
   ]
  },
  {
   "cell_type": "code",
   "execution_count": 7,
   "id": "b0557c16",
   "metadata": {},
   "outputs": [
    {
     "name": "stderr",
     "output_type": "stream",
     "text": [
      "/Users/paloma/Desktop/Ironhack/movies-awards-popularity/notebooks/cleaning_functions.py:30: UserWarning: Boolean Series key will be reindexed to match DataFrame index.\n",
      "  df= df.drop(df[df_column == l].index)\n",
      "/Users/paloma/Desktop/Ironhack/movies-awards-popularity/notebooks/cleaning_functions.py:30: UserWarning: Boolean Series key will be reindexed to match DataFrame index.\n",
      "  df= df.drop(df[df_column == l].index)\n",
      "/Users/paloma/Desktop/Ironhack/movies-awards-popularity/notebooks/cleaning_functions.py:30: UserWarning: Boolean Series key will be reindexed to match DataFrame index.\n",
      "  df= df.drop(df[df_column == l].index)\n"
     ]
    }
   ],
   "source": [
    "#eliminamos también categrías honoríficas no vinculadas a una película concreta\n",
    "honorary_awards =['Cecil b. demille award','Henrietta award (world film favorites)','Special achievement award','Carol burnett award']\n",
    "df_golden_s = cf.drop_rows_by_value(df_golden_s,df_golden_s['Golden Globes nominations'],honorary_awards)"
   ]
  },
  {
   "cell_type": "code",
   "execution_count": 8,
   "id": "bffac13e",
   "metadata": {},
   "outputs": [
    {
     "data": {
      "text/plain": [
       "year_film                     0\n",
       "year_award                    0\n",
       "Golden Globes nominations     0\n",
       "nominee                       0\n",
       "film                         52\n",
       "Golden Globes winner          0\n",
       "dtype: int64"
      ]
     },
     "execution_count": 8,
     "metadata": {},
     "output_type": "execute_result"
    }
   ],
   "source": [
    "df_golden_s.isnull().sum()"
   ]
  },
  {
   "cell_type": "code",
   "execution_count": 9,
   "id": "5ab1e12b",
   "metadata": {},
   "outputs": [
    {
     "data": {
      "text/html": [
       "<div>\n",
       "<style scoped>\n",
       "    .dataframe tbody tr th:only-of-type {\n",
       "        vertical-align: middle;\n",
       "    }\n",
       "\n",
       "    .dataframe tbody tr th {\n",
       "        vertical-align: top;\n",
       "    }\n",
       "\n",
       "    .dataframe thead th {\n",
       "        text-align: right;\n",
       "    }\n",
       "</style>\n",
       "<table border=\"1\" class=\"dataframe\">\n",
       "  <thead>\n",
       "    <tr style=\"text-align: right;\">\n",
       "      <th></th>\n",
       "      <th>year_film</th>\n",
       "      <th>year_award</th>\n",
       "      <th>Golden Globes nominations</th>\n",
       "      <th>nominee</th>\n",
       "      <th>film</th>\n",
       "      <th>Golden Globes winner</th>\n",
       "    </tr>\n",
       "  </thead>\n",
       "  <tbody>\n",
       "    <tr>\n",
       "      <th>5</th>\n",
       "      <td>2020</td>\n",
       "      <td>2021</td>\n",
       "      <td>Best motion picture - animated</td>\n",
       "      <td>Soul</td>\n",
       "      <td>NaN</td>\n",
       "      <td>True</td>\n",
       "    </tr>\n",
       "    <tr>\n",
       "      <th>6</th>\n",
       "      <td>2020</td>\n",
       "      <td>2021</td>\n",
       "      <td>Best motion picture - animated</td>\n",
       "      <td>Croods: A New Age, The</td>\n",
       "      <td>NaN</td>\n",
       "      <td>False</td>\n",
       "    </tr>\n",
       "  </tbody>\n",
       "</table>\n",
       "</div>"
      ],
      "text/plain": [
       "   year_film  year_award       Golden Globes nominations  \\\n",
       "5       2020        2021  Best motion picture - animated   \n",
       "6       2020        2021  Best motion picture - animated   \n",
       "\n",
       "                  nominee film  Golden Globes winner  \n",
       "5                    Soul  NaN                  True  \n",
       "6  Croods: A New Age, The  NaN                 False  "
      ]
     },
     "execution_count": 9,
     "metadata": {},
     "output_type": "execute_result"
    }
   ],
   "source": [
    "#igual que en el primer DF, los valores nulos de películas se pueden completar con los valores en la misma fila en la columna nominee\n",
    "nan_rows_golden_s = df_golden_s[df_golden_s.film.isnull()]\n",
    "nan_rows_golden_s.head(2)"
   ]
  },
  {
   "cell_type": "code",
   "execution_count": 10,
   "id": "fa718c1f",
   "metadata": {},
   "outputs": [],
   "source": [
    "df_golden_s.film.fillna(df_golden_s.nominee, inplace=True)"
   ]
  },
  {
   "cell_type": "code",
   "execution_count": 11,
   "id": "833a8efd",
   "metadata": {},
   "outputs": [
    {
     "data": {
      "text/plain": [
       "year_film                    0\n",
       "year_award                   0\n",
       "Golden Globes nominations    0\n",
       "nominee                      0\n",
       "film                         0\n",
       "Golden Globes winner         0\n",
       "dtype: int64"
      ]
     },
     "execution_count": 11,
     "metadata": {},
     "output_type": "execute_result"
    }
   ],
   "source": [
    "df_golden_s.isnull().sum()"
   ]
  },
  {
   "cell_type": "code",
   "execution_count": 12,
   "id": "00ec7351",
   "metadata": {},
   "outputs": [],
   "source": [
    "#unificamos valores únicos en la columna de 'Golden Globes nominations' para igualarlos al df original"
   ]
  },
  {
   "cell_type": "code",
   "execution_count": 13,
   "id": "51ebf7f2",
   "metadata": {
    "scrolled": true
   },
   "outputs": [
    {
     "data": {
      "text/plain": [
       "array(['Best director - motion picture', 'Best motion picture - animated',\n",
       "       'Best motion picture - drama',\n",
       "       'Best motion picture – non-english language',\n",
       "       'Best motion picture - musical or comedy',\n",
       "       'Best original score - motion picture',\n",
       "       'Best original song - motion picture',\n",
       "       'Best performance by an actor in a motion picture - drama',\n",
       "       'Best performance by an actor in a motion picture - musical or comedy',\n",
       "       'Best performance by an actor in a supporting role in any motion picture',\n",
       "       'Best performance by an actress in a motion picture - drama',\n",
       "       'Best performance by an actress in a motion picture - musical or comedy',\n",
       "       'Best performance by an actress in a supporting role in any motion picture',\n",
       "       'Best screenplay - motion picture'], dtype=object)"
      ]
     },
     "execution_count": 13,
     "metadata": {},
     "output_type": "execute_result"
    }
   ],
   "source": [
    "df_golden_s['Golden Globes nominations'].unique()"
   ]
  },
  {
   "cell_type": "code",
   "execution_count": 14,
   "id": "e26d3af3",
   "metadata": {},
   "outputs": [],
   "source": [
    "cat_changes = {\n",
    "    'Best performance by an actress in a motion picture - drama': 'Best actress - drama',\n",
    "    'Best performance by an actress in a motion picture - musical or comedy': 'Best actress - musical or comedy',\n",
    "    'Best performance by an actress in a supporting role in any motion picture': 'Best supporting actress - motion picture',\n",
    "    'Best performance by an actor in a motion picture - drama': 'Best actor - drama',\n",
    "    'Best performance by an actor in a motion picture - musical or comedy': 'Best actor - musical or comedy',\n",
    "    'Best performance by an actor in a supporting role in any motion picture': 'Best supporting actor - motion picture',\n",
    "    'Best motion picture – non-english language': 'Best motion picture - foreign language'\n",
    "}"
   ]
  },
  {
   "cell_type": "code",
   "execution_count": 15,
   "id": "faf896fb",
   "metadata": {},
   "outputs": [
    {
     "data": {
      "text/plain": [
       "array(['Best director - motion picture', 'Best motion picture - animated',\n",
       "       'Best motion picture - drama',\n",
       "       'Best motion picture - foreign language',\n",
       "       'Best motion picture - musical or comedy',\n",
       "       'Best original score - motion picture',\n",
       "       'Best original song - motion picture', 'Best actor - drama',\n",
       "       'Best actor - musical or comedy',\n",
       "       'Best supporting actor - motion picture', 'Best actress - drama',\n",
       "       'Best actress - musical or comedy',\n",
       "       'Best supporting actress - motion picture',\n",
       "       'Best screenplay - motion picture'], dtype=object)"
      ]
     },
     "execution_count": 15,
     "metadata": {},
     "output_type": "execute_result"
    }
   ],
   "source": [
    "df_golden_s = cf.clean_values_column (df_golden_s, cat_changes)\n",
    "df_golden_s['Golden Globes nominations'].unique()"
   ]
  },
  {
   "cell_type": "code",
   "execution_count": 18,
   "id": "0932c7aa",
   "metadata": {},
   "outputs": [
    {
     "data": {
      "text/html": [
       "<div>\n",
       "<style scoped>\n",
       "    .dataframe tbody tr th:only-of-type {\n",
       "        vertical-align: middle;\n",
       "    }\n",
       "\n",
       "    .dataframe tbody tr th {\n",
       "        vertical-align: top;\n",
       "    }\n",
       "\n",
       "    .dataframe thead th {\n",
       "        text-align: right;\n",
       "    }\n",
       "</style>\n",
       "<table border=\"1\" class=\"dataframe\">\n",
       "  <thead>\n",
       "    <tr style=\"text-align: right;\">\n",
       "      <th></th>\n",
       "      <th>year_film</th>\n",
       "      <th>year_award</th>\n",
       "      <th>Golden Globes nominations</th>\n",
       "      <th>nominee</th>\n",
       "      <th>film</th>\n",
       "      <th>Golden Globes winner</th>\n",
       "    </tr>\n",
       "  </thead>\n",
       "  <tbody>\n",
       "    <tr>\n",
       "      <th>0</th>\n",
       "      <td>2020</td>\n",
       "      <td>2021</td>\n",
       "      <td>Best director - motion picture</td>\n",
       "      <td>Chloé Zhao</td>\n",
       "      <td>Nomadland</td>\n",
       "      <td>True</td>\n",
       "    </tr>\n",
       "    <tr>\n",
       "      <th>1</th>\n",
       "      <td>2020</td>\n",
       "      <td>2021</td>\n",
       "      <td>Best director - motion picture</td>\n",
       "      <td>Aaron Sorkin</td>\n",
       "      <td>Trial of the Chicago 7, The</td>\n",
       "      <td>False</td>\n",
       "    </tr>\n",
       "    <tr>\n",
       "      <th>2</th>\n",
       "      <td>2020</td>\n",
       "      <td>2021</td>\n",
       "      <td>Best director - motion picture</td>\n",
       "      <td>David Fincher</td>\n",
       "      <td>Mank</td>\n",
       "      <td>False</td>\n",
       "    </tr>\n",
       "    <tr>\n",
       "      <th>3</th>\n",
       "      <td>2020</td>\n",
       "      <td>2021</td>\n",
       "      <td>Best director - motion picture</td>\n",
       "      <td>Emerald Fennell</td>\n",
       "      <td>Promising Young Woman</td>\n",
       "      <td>False</td>\n",
       "    </tr>\n",
       "    <tr>\n",
       "      <th>4</th>\n",
       "      <td>2020</td>\n",
       "      <td>2021</td>\n",
       "      <td>Best director - motion picture</td>\n",
       "      <td>Regina King</td>\n",
       "      <td>One Night in Miami…</td>\n",
       "      <td>False</td>\n",
       "    </tr>\n",
       "    <tr>\n",
       "      <th>5</th>\n",
       "      <td>2020</td>\n",
       "      <td>2021</td>\n",
       "      <td>Best motion picture - animated</td>\n",
       "      <td>Soul</td>\n",
       "      <td>Soul</td>\n",
       "      <td>True</td>\n",
       "    </tr>\n",
       "    <tr>\n",
       "      <th>6</th>\n",
       "      <td>2020</td>\n",
       "      <td>2021</td>\n",
       "      <td>Best motion picture - animated</td>\n",
       "      <td>Croods: A New Age, The</td>\n",
       "      <td>Croods: A New Age, The</td>\n",
       "      <td>False</td>\n",
       "    </tr>\n",
       "    <tr>\n",
       "      <th>7</th>\n",
       "      <td>2020</td>\n",
       "      <td>2021</td>\n",
       "      <td>Best motion picture - animated</td>\n",
       "      <td>Onward</td>\n",
       "      <td>Onward</td>\n",
       "      <td>False</td>\n",
       "    </tr>\n",
       "    <tr>\n",
       "      <th>8</th>\n",
       "      <td>2020</td>\n",
       "      <td>2021</td>\n",
       "      <td>Best motion picture - animated</td>\n",
       "      <td>Over the Moon</td>\n",
       "      <td>Over the Moon</td>\n",
       "      <td>False</td>\n",
       "    </tr>\n",
       "    <tr>\n",
       "      <th>9</th>\n",
       "      <td>2020</td>\n",
       "      <td>2021</td>\n",
       "      <td>Best motion picture - animated</td>\n",
       "      <td>Wolfwalkers</td>\n",
       "      <td>Wolfwalkers</td>\n",
       "      <td>False</td>\n",
       "    </tr>\n",
       "    <tr>\n",
       "      <th>10</th>\n",
       "      <td>2020</td>\n",
       "      <td>2021</td>\n",
       "      <td>Best motion picture - drama</td>\n",
       "      <td>Nomadland</td>\n",
       "      <td>Nomadland</td>\n",
       "      <td>True</td>\n",
       "    </tr>\n",
       "    <tr>\n",
       "      <th>11</th>\n",
       "      <td>2020</td>\n",
       "      <td>2021</td>\n",
       "      <td>Best motion picture - drama</td>\n",
       "      <td>Father, The</td>\n",
       "      <td>Father, The</td>\n",
       "      <td>False</td>\n",
       "    </tr>\n",
       "    <tr>\n",
       "      <th>12</th>\n",
       "      <td>2020</td>\n",
       "      <td>2021</td>\n",
       "      <td>Best motion picture - drama</td>\n",
       "      <td>Mank</td>\n",
       "      <td>Mank</td>\n",
       "      <td>False</td>\n",
       "    </tr>\n",
       "    <tr>\n",
       "      <th>13</th>\n",
       "      <td>2020</td>\n",
       "      <td>2021</td>\n",
       "      <td>Best motion picture - drama</td>\n",
       "      <td>Promising Young Woman</td>\n",
       "      <td>Promising Young Woman</td>\n",
       "      <td>False</td>\n",
       "    </tr>\n",
       "    <tr>\n",
       "      <th>14</th>\n",
       "      <td>2020</td>\n",
       "      <td>2021</td>\n",
       "      <td>Best motion picture - drama</td>\n",
       "      <td>Trial of the Chicago 7, The</td>\n",
       "      <td>Trial of the Chicago 7, The</td>\n",
       "      <td>False</td>\n",
       "    </tr>\n",
       "  </tbody>\n",
       "</table>\n",
       "</div>"
      ],
      "text/plain": [
       "    year_film  year_award       Golden Globes nominations  \\\n",
       "0        2020        2021  Best director - motion picture   \n",
       "1        2020        2021  Best director - motion picture   \n",
       "2        2020        2021  Best director - motion picture   \n",
       "3        2020        2021  Best director - motion picture   \n",
       "4        2020        2021  Best director - motion picture   \n",
       "5        2020        2021  Best motion picture - animated   \n",
       "6        2020        2021  Best motion picture - animated   \n",
       "7        2020        2021  Best motion picture - animated   \n",
       "8        2020        2021  Best motion picture - animated   \n",
       "9        2020        2021  Best motion picture - animated   \n",
       "10       2020        2021     Best motion picture - drama   \n",
       "11       2020        2021     Best motion picture - drama   \n",
       "12       2020        2021     Best motion picture - drama   \n",
       "13       2020        2021     Best motion picture - drama   \n",
       "14       2020        2021     Best motion picture - drama   \n",
       "\n",
       "                        nominee                         film  \\\n",
       "0                    Chloé Zhao                    Nomadland   \n",
       "1                  Aaron Sorkin  Trial of the Chicago 7, The   \n",
       "2                 David Fincher                         Mank   \n",
       "3               Emerald Fennell        Promising Young Woman   \n",
       "4                   Regina King          One Night in Miami…   \n",
       "5                          Soul                         Soul   \n",
       "6        Croods: A New Age, The       Croods: A New Age, The   \n",
       "7                        Onward                       Onward   \n",
       "8                 Over the Moon                Over the Moon   \n",
       "9                   Wolfwalkers                  Wolfwalkers   \n",
       "10                    Nomadland                    Nomadland   \n",
       "11                  Father, The                  Father, The   \n",
       "12                         Mank                         Mank   \n",
       "13        Promising Young Woman        Promising Young Woman   \n",
       "14  Trial of the Chicago 7, The  Trial of the Chicago 7, The   \n",
       "\n",
       "    Golden Globes winner  \n",
       "0                   True  \n",
       "1                  False  \n",
       "2                  False  \n",
       "3                  False  \n",
       "4                  False  \n",
       "5                   True  \n",
       "6                  False  \n",
       "7                  False  \n",
       "8                  False  \n",
       "9                  False  \n",
       "10                  True  \n",
       "11                 False  \n",
       "12                 False  \n",
       "13                 False  \n",
       "14                 False  "
      ]
     },
     "execution_count": 18,
     "metadata": {},
     "output_type": "execute_result"
    }
   ],
   "source": [
    "df_golden_s.head(15)"
   ]
  },
  {
   "cell_type": "code",
   "execution_count": 16,
   "id": "3e22007b",
   "metadata": {},
   "outputs": [],
   "source": [
    "#df_golden_s.to_csv('golden_scrap_cleaned.csv', index = False)"
   ]
  },
  {
   "cell_type": "code",
   "execution_count": null,
   "id": "eb6751f1",
   "metadata": {},
   "outputs": [],
   "source": []
  }
 ],
 "metadata": {
  "kernelspec": {
   "display_name": "Python 3 (ipykernel)",
   "language": "python",
   "name": "python3"
  },
  "language_info": {
   "codemirror_mode": {
    "name": "ipython",
    "version": 3
   },
   "file_extension": ".py",
   "mimetype": "text/x-python",
   "name": "python",
   "nbconvert_exporter": "python",
   "pygments_lexer": "ipython3",
   "version": "3.11.5"
  }
 },
 "nbformat": 4,
 "nbformat_minor": 5
}
